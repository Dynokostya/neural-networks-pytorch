{
  "cells": [
    {
      "cell_type": "markdown",
      "metadata": {
        "id": "hToRp7ZKZSSB"
      },
      "source": [
        "# Компʼютерний практикум №8\n",
        "Виконав студент групи ЗК-41мп Гломозда Костянтин\n",
        "\n",
        "КЛАСИФІКАЦІЯ РУКОПИСНИХ ЧИСЕЛ ПОВНОЗВ’ЯЗНОЮ МЕРЕЖЕЮ. МЕТОДИ ОПТИМІЗАЦІЇ"
      ]
    },
    {
      "cell_type": "markdown",
      "metadata": {
        "id": "hlMkz9tnZSSD"
      },
      "source": [
        "# Завдання 1"
      ]
    },
    {
      "cell_type": "markdown",
      "metadata": {
        "id": "q-VJcu-xZSSD"
      },
      "source": [
        "Завантажуємо бібліотеки"
      ]
    },
    {
      "cell_type": "code",
      "execution_count": null,
      "metadata": {
        "id": "wVIjISyjZSSD"
      },
      "outputs": [],
      "source": [
        "import torch\n",
        "import random\n",
        "import numpy as np\n",
        "\n",
        "\n",
        "random.seed(0)\n",
        "np.random.seed(0)\n",
        "torch.manual_seed(0)\n",
        "torch.cuda.manual_seed(0)\n",
        "torch.backends.cudnn.deterministic = False\n",
        "\n",
        "device = torch.device('cuda' if torch.cuda.is_available() else 'cpu')"
      ]
    },
    {
      "cell_type": "markdown",
      "metadata": {
        "id": "U_GdNTPAZSSE"
      },
      "source": [
        "Завантаження датасету"
      ]
    },
    {
      "cell_type": "code",
      "execution_count": null,
      "metadata": {
        "id": "lX1THG60ZSSE",
        "outputId": "4e41b158-1a3d-4954-8c42-64b35dcd4ff0"
      },
      "outputs": [
        {
          "name": "stderr",
          "output_type": "stream",
          "text": [
            "/home/dynokostya/Documents/Projects/nn-pytorch-labs/.venv/lib/python3.12/site-packages/torchvision/datasets/mnist.py:76: UserWarning: train_data has been renamed data\n",
            "  warnings.warn(\"train_data has been renamed data\")\n",
            "/home/dynokostya/Documents/Projects/nn-pytorch-labs/.venv/lib/python3.12/site-packages/torchvision/datasets/mnist.py:66: UserWarning: train_labels has been renamed targets\n",
            "  warnings.warn(\"train_labels has been renamed targets\")\n",
            "/home/dynokostya/Documents/Projects/nn-pytorch-labs/.venv/lib/python3.12/site-packages/torchvision/datasets/mnist.py:81: UserWarning: test_data has been renamed data\n",
            "  warnings.warn(\"test_data has been renamed data\")\n",
            "/home/dynokostya/Documents/Projects/nn-pytorch-labs/.venv/lib/python3.12/site-packages/torchvision/datasets/mnist.py:71: UserWarning: test_labels has been renamed targets\n",
            "  warnings.warn(\"test_labels has been renamed targets\")\n"
          ]
        }
      ],
      "source": [
        "import torchvision.datasets\n",
        "\n",
        "\n",
        "MNIST_train = torchvision.datasets.MNIST('./data', download=True, train=True)\n",
        "MNIST_test = torchvision.datasets.MNIST('./data', download=True, train=False)\n",
        "\n",
        "X_train = MNIST_train.train_data\n",
        "y_train = MNIST_train.train_labels\n",
        "X_test = MNIST_test.test_data\n",
        "y_test = MNIST_test.test_labels"
      ]
    },
    {
      "cell_type": "markdown",
      "metadata": {
        "id": "hMT2ou1zZSSF"
      },
      "source": [
        "Перевірка"
      ]
    },
    {
      "cell_type": "code",
      "execution_count": null,
      "metadata": {
        "id": "eQSxuZOIZSSF",
        "outputId": "f8e2e4c7-d4d9-4590-fd2b-2432bfc656f2"
      },
      "outputs": [
        {
          "name": "stdout",
          "output_type": "stream",
          "text": [
            "torch.uint8 torch.int64\n"
          ]
        }
      ],
      "source": [
        "X_train = X_train.to(device)\n",
        "y_train = y_train.to(device)\n",
        "X_test = X_test.to(device)\n",
        "y_test = y_test.to(device)\n",
        "\n",
        "print(X_train.dtype, y_train.dtype)"
      ]
    },
    {
      "cell_type": "markdown",
      "metadata": {
        "id": "XMiHOMSnZSSF"
      },
      "source": [
        "Перетвоюємо дані на float"
      ]
    },
    {
      "cell_type": "code",
      "execution_count": null,
      "metadata": {
        "id": "4opJ-1deZSSF",
        "outputId": "3b16b868-d4a9-4836-e566-e373ff48d740"
      },
      "outputs": [
        {
          "name": "stdout",
          "output_type": "stream",
          "text": [
            "torch.Size([60000, 28, 28]) torch.Size([10000, 28, 28])\n",
            "torch.Size([60000]) torch.Size([10000])\n"
          ]
        }
      ],
      "source": [
        "X_train = X_train.float()\n",
        "X_test = X_test.float()\n",
        "\n",
        "print(X_train.shape, X_test.shape)\n",
        "print(y_train.shape, y_test.shape)"
      ]
    },
    {
      "cell_type": "markdown",
      "metadata": {
        "id": "GkLx12N4ZSSF"
      },
      "source": [
        "Відобразимо картинку"
      ]
    },
    {
      "cell_type": "code",
      "execution_count": null,
      "metadata": {
        "id": "q7n1ZmeyZSSF",
        "outputId": "f95222e9-c971-43c8-d31f-3d81c4eacc22"
      },
      "outputs": [
        {
          "data": {
            "image/png": "[encoded data removed]",
            "text/plain": [
              "<Figure size 640x480 with 1 Axes>"
            ]
          },
          "metadata": {},
          "output_type": "display_data"
        },
        {
          "name": "stdout",
          "output_type": "stream",
          "text": [
            "tensor(5, device='cuda:0')\n"
          ]
        }
      ],
      "source": [
        "import matplotlib.pyplot as plt\n",
        "\n",
        "\n",
        "plt.imshow(X_train[0, :, :].cpu())\n",
        "plt.show()\n",
        "print(y_train[0])"
      ]
    },
    {
      "cell_type": "markdown",
      "metadata": {
        "id": "ZN9BvUh4ZSSG"
      },
      "source": [
        "Перевторюємо 2д в 1д масив"
      ]
    },
    {
      "cell_type": "code",
      "execution_count": null,
      "metadata": {
        "id": "nxdxeE-hZSSG",
        "outputId": "0c6903c4-a645-4707-dae9-45239549b818"
      },
      "outputs": [
        {
          "name": "stdout",
          "output_type": "stream",
          "text": [
            "torch.Size([60000, 784]) torch.Size([10000, 784])\n"
          ]
        }
      ],
      "source": [
        "X_train = X_train.reshape([-1, 28 * 28])\n",
        "X_test = X_test.reshape([-1, 28 * 28])\n",
        "\n",
        "print(X_train.shape, X_test.shape)"
      ]
    },
    {
      "cell_type": "markdown",
      "metadata": {
        "id": "XPyLKLu9ZSSG"
      },
      "source": [
        "Створюємо нейронну мережу на 784 входи та 10 виходів"
      ]
    },
    {
      "cell_type": "code",
      "execution_count": null,
      "metadata": {
        "id": "M9yii0VVZSSG"
      },
      "outputs": [],
      "source": [
        "class MNISTNet(torch.nn.Module):\n",
        "    def __init__(self, n_hidden_neurons):\n",
        "        super(MNISTNet, self).__init__()\n",
        "        self.fc1 = torch.nn.Linear(28 * 28, n_hidden_neurons)\n",
        "        self.ac1 = torch.nn.Sigmoid()\n",
        "        self.fc2 = torch.nn.Linear(n_hidden_neurons, 10)\n",
        "\n",
        "    def forward(self, x):\n",
        "        x = self.fc1(x)\n",
        "        x = self.ac1(x)\n",
        "        x = self.fc2(x)\n",
        "        return x\n",
        "\n",
        "mnist_net = MNISTNet(100).to(device)"
      ]
    },
    {
      "cell_type": "markdown",
      "metadata": {
        "id": "PG0nU5B1ZSSG"
      },
      "source": [
        "Створюємо оптимізатор"
      ]
    },
    {
      "cell_type": "code",
      "execution_count": null,
      "metadata": {
        "id": "aqzuHP0mZSSG"
      },
      "outputs": [],
      "source": [
        "loss = torch.nn.CrossEntropyLoss()\n",
        "optimizer = torch.optim.Adam(mnist_net.parameters(), lr=1.0e-3)"
      ]
    },
    {
      "cell_type": "markdown",
      "metadata": {
        "id": "2Sz3SZfRZSSG"
      },
      "source": [
        "Навчання"
      ]
    },
    {
      "cell_type": "code",
      "execution_count": null,
      "metadata": {
        "id": "LIJFaIS9ZSSG",
        "outputId": "58cfd6a4-8968-414f-f9ff-d56a77f3db25"
      },
      "outputs": [
        {
          "name": "stdout",
          "output_type": "stream",
          "text": [
            "Epoch: 0/100, Test Accuracy: 0.910, Test Loss: 0.343, Train Accuracy: 0.906, Train Loss: 0.352\n",
            "Epoch: 10/100, Test Accuracy: 0.931, Test Loss: 0.229, Train Accuracy: 0.932, Train Loss: 0.226\n",
            "Epoch: 20/100, Test Accuracy: 0.939, Test Loss: 0.209, Train Accuracy: 0.940, Train Loss: 0.197\n",
            "Epoch: 30/100, Test Accuracy: 0.947, Test Loss: 0.184, Train Accuracy: 0.947, Train Loss: 0.178\n",
            "Epoch: 40/100, Test Accuracy: 0.944, Test Loss: 0.186, Train Accuracy: 0.949, Train Loss: 0.168\n",
            "Epoch: 50/100, Test Accuracy: 0.949, Test Loss: 0.162, Train Accuracy: 0.953, Train Loss: 0.152\n",
            "Epoch: 60/100, Test Accuracy: 0.949, Test Loss: 0.160, Train Accuracy: 0.956, Train Loss: 0.143\n",
            "Epoch: 70/100, Test Accuracy: 0.950, Test Loss: 0.164, Train Accuracy: 0.955, Train Loss: 0.145\n",
            "Epoch: 80/100, Test Accuracy: 0.956, Test Loss: 0.143, Train Accuracy: 0.960, Train Loss: 0.132\n",
            "Epoch: 90/100, Test Accuracy: 0.955, Test Loss: 0.147, Train Accuracy: 0.961, Train Loss: 0.128\n",
            "Final Test Accuracy: 0.955\n",
            "Final Test Loss: 0.147\n",
            "Final Train Accuracy: 0.961\n",
            "Final Train Loss: 0.128\n"
          ]
        }
      ],
      "source": [
        "batch_size = 100\n",
        "epochs = 100\n",
        "test_accuracy = []\n",
        "test_loss = []\n",
        "train_accuracy = []\n",
        "train_loss = []\n",
        "\n",
        "for epoch in range(epochs):\n",
        "    order = np.random.permutation(len(X_train))\n",
        "    for start_index in range(0, len(X_train), batch_size):\n",
        "        optimizer.zero_grad()\n",
        "        batch_indexes = order[start_index:start_index+batch_size]\n",
        "        X_batch = X_train[batch_indexes]\n",
        "        y_batch = y_train[batch_indexes]\n",
        "        preds = mnist_net.forward(X_batch)\n",
        "        loss_value = loss(preds, y_batch)\n",
        "        loss_value.backward()\n",
        "        optimizer.step()\n",
        "\n",
        "    if epoch % (epochs / 10) == 0:\n",
        "        # Test (validation)\n",
        "        test_preds = mnist_net.forward(X_test)\n",
        "        test_loss.append(loss(test_preds, y_test))\n",
        "        test_accuracy.append((test_preds.argmax(dim=1) == y_test).float().mean())\n",
        "\n",
        "        # Train\n",
        "        train_preds = mnist_net.forward(X_train)\n",
        "        train_loss.append(loss(train_preds, y_train))\n",
        "        train_accuracy.append((train_preds.argmax(dim=1) == y_train).float().mean())\n",
        "\n",
        "        print(f\"Epoch: {epoch}/{epochs}, Test Accuracy: {test_accuracy[-1]:.03f}, Test Loss: {test_loss[-1]:.03f}, Train Accuracy: {train_accuracy[-1]:.03f}, Train Loss: {train_loss[-1]:.03f}\")\n",
        "\n",
        "print(f\"Final Test Accuracy: {(test_preds.argmax(dim=1) == y_test).float().mean():.03f}\")\n",
        "print(f\"Final Test Loss: {loss(test_preds, y_test):.03f}\")\n",
        "print(f\"Final Train Accuracy: {(train_preds.argmax(dim=1) == y_train).float().mean():.03f}\")\n",
        "print(f\"Final Train Loss: {loss(train_preds, y_train):.03f}\")"
      ]
    },
    {
      "cell_type": "markdown",
      "metadata": {
        "id": "6Q-N-bvTZSSG"
      },
      "source": [
        "Візуалізація результатів"
      ]
    },
    {
      "cell_type": "code",
      "execution_count": null,
      "metadata": {
        "id": "emPdZc9iZSSH",
        "outputId": "a5aa6dcb-bf42-47de-919b-62e9d5601140"
      },
      "outputs": [
        {
          "data": {
            "image/png": "[encoded data removed]",
            "text/plain": [
              "<Figure size 1500x500 with 2 Axes>"
            ]
          },
          "metadata": {},
          "output_type": "display_data"
        }
      ],
      "source": [
        "fig, axs = plt.subplots(1, 2, figsize=(15, 5))\n",
        "\n",
        "# Accuracy\n",
        "axs[0].plot(range(0, epochs, epochs // 10), list(map(lambda x: x.cpu().detach(), test_accuracy)), 'bo-', label='Test accuracy')\n",
        "axs[0].plot(range(0, epochs, epochs // 10), list(map(lambda x: x.cpu().detach(), train_accuracy)), 'go-', label='Train accuracy')\n",
        "axs[0].set_title('Accuracy')\n",
        "axs[0].set_xlabel('Epochs')\n",
        "axs[0].set_ylabel('Accuracy')\n",
        "axs[0].set_xticks(range(0, epochs, epochs // 10))\n",
        "axs[0].legend()\n",
        "\n",
        "# Loss\n",
        "axs[1].plot(range(0, epochs, epochs // 10), list(map(lambda x: x.cpu().detach(), test_loss)), 'ro-', label='Test loss')\n",
        "axs[1].plot(range(0, epochs, epochs // 10), list(map(lambda x: x.cpu().detach(), train_loss)), 'mo-', label='Train loss')\n",
        "axs[1].set_title('Loss')\n",
        "axs[1].set_xlabel('Epochs')\n",
        "axs[1].set_ylabel('Loss')\n",
        "axs[1].set_xticks(range(0, epochs, epochs // 10))\n",
        "axs[1].legend()\n",
        "\n",
        "plt.tight_layout()\n",
        "plt.show()"
      ]
    },
    {
      "cell_type": "markdown",
      "metadata": {
        "id": "S9J1tlsyZSSH"
      },
      "source": [
        "Чи правда, що loss на train і validation падає однаково швидко і виходить на однакове значення, або ж у нас є перенавчання?\n",
        "\n",
        "Наврядчи. Швидке падіння можна пояснити тим, що перша епоха проходить з випадковими вагами, після чого їх значення значно змінюються, що покращує точність та зменшує помилку.\n",
        "\n",
        "Чи веде збільшення кількості епох (з 40 епох до 200 епох) до поліпшення метрик на валідації?\n",
        "\n",
        "Так"
      ]
    },
    {
      "cell_type": "markdown",
      "metadata": {
        "id": "jCnwAmzuZSSH"
      },
      "source": [
        "Чи уповільнює torch.backends.cudnn.deterministic = True навчання\n",
        "на практиці? Якщо так, то наскільки?\n",
        "\n",
        "При значенні False навчання триває 23.1 секунди:\n",
        "\n",
        "`\n",
        "Final Test Accuracy: 0.955\n",
        "Final Test Loss: 0.147\n",
        "Final Train Accuracy: 0.961\n",
        "Final Train Loss: 0.128\n",
        "`\n",
        "\n",
        "Значення True - 23.1 секунди:\n",
        "\n",
        "`\n",
        "Final Test Accuracy: 0.955\n",
        "Final Test Loss: 0.147\n",
        "Final Train Accuracy: 0.961\n",
        "Final Train Loss: 0.128\n",
        "`\n",
        "\n",
        "Час навчання та результати однакові"
      ]
    },
    {
      "cell_type": "markdown",
      "metadata": {
        "id": "LgJwEIjgZSSH"
      },
      "source": [
        "Спробуйте різні методи градієнтного спуску. Як вибір градієнтного\n",
        "спуску впливає на accuracy? Для впевненості краще проводити\n",
        "один експеримент 3-5 разів на різних random seed: так ви\n",
        "зрозумієте, чи дійсно позначається вплив методу або справа в\n",
        "випадковості.\n",
        "\n",
        "Спробуємо вибрати SGD"
      ]
    },
    {
      "cell_type": "code",
      "execution_count": null,
      "metadata": {
        "id": "kyARTEupZSSH",
        "outputId": "0d6b59ad-26b4-4dfd-8139-f1472d3c3a32"
      },
      "outputs": [
        {
          "name": "stdout",
          "output_type": "stream",
          "text": [
            "Epoch: 0/100, Test Accuracy: 0.780, Test Loss: 1.379, Train Accuracy: 0.772, Train Loss: 1.389\n",
            "Epoch: 10/100, Test Accuracy: 0.906, Test Loss: 0.442, Train Accuracy: 0.908, Train Loss: 0.440\n",
            "Epoch: 20/100, Test Accuracy: 0.919, Test Loss: 0.334, Train Accuracy: 0.925, Train Loss: 0.319\n",
            "Epoch: 30/100, Test Accuracy: 0.924, Test Loss: 0.293, Train Accuracy: 0.935, Train Loss: 0.266\n",
            "Epoch: 40/100, Test Accuracy: 0.928, Test Loss: 0.270, Train Accuracy: 0.941, Train Loss: 0.235\n",
            "Epoch: 50/100, Test Accuracy: 0.931, Test Loss: 0.255, Train Accuracy: 0.946, Train Loss: 0.214\n",
            "Epoch: 60/100, Test Accuracy: 0.931, Test Loss: 0.246, Train Accuracy: 0.950, Train Loss: 0.198\n",
            "Epoch: 70/100, Test Accuracy: 0.932, Test Loss: 0.240, Train Accuracy: 0.953, Train Loss: 0.186\n",
            "Epoch: 80/100, Test Accuracy: 0.933, Test Loss: 0.233, Train Accuracy: 0.955, Train Loss: 0.176\n",
            "Epoch: 90/100, Test Accuracy: 0.934, Test Loss: 0.229, Train Accuracy: 0.957, Train Loss: 0.169\n",
            "Final Test Accuracy: 0.934\n",
            "Final Test Loss: 0.229\n",
            "Final Train Accuracy: 0.957\n",
            "Final Train Loss: 0.169\n"
          ]
        },
        {
          "data": {
            "image/png": "[encoded data removed]",
            "text/plain": [
              "<Figure size 1500x500 with 2 Axes>"
            ]
          },
          "metadata": {},
          "output_type": "display_data"
        }
      ],
      "source": [
        "loss = torch.nn.CrossEntropyLoss()\n",
        "optimizer = torch.optim.SGD(mnist_net.parameters(), lr=1.0e-3)\n",
        "\n",
        "batch_size = 100\n",
        "epochs = 100\n",
        "test_accuracy = []\n",
        "test_loss = []\n",
        "train_accuracy = []\n",
        "train_loss = []\n",
        "\n",
        "for epoch in range(epochs):\n",
        "    order = np.random.permutation(len(X_train))\n",
        "    for start_index in range(0, len(X_train), batch_size):\n",
        "        optimizer.zero_grad()\n",
        "        batch_indexes = order[start_index:start_index+batch_size]\n",
        "        X_batch = X_train[batch_indexes]\n",
        "        y_batch = y_train[batch_indexes]\n",
        "        preds = mnist_net.forward(X_batch)\n",
        "        loss_value = loss(preds, y_batch)\n",
        "        loss_value.backward()\n",
        "        optimizer.step()\n",
        "\n",
        "    if epoch % (epochs / 10) == 0:\n",
        "        # Test (validation)\n",
        "        test_preds = mnist_net.forward(X_test)\n",
        "        test_loss.append(loss(test_preds, y_test))\n",
        "        test_accuracy.append((test_preds.argmax(dim=1) == y_test).float().mean())\n",
        "\n",
        "        # Train\n",
        "        train_preds = mnist_net.forward(X_train)\n",
        "        train_loss.append(loss(train_preds, y_train))\n",
        "        train_accuracy.append((train_preds.argmax(dim=1) == y_train).float().mean())\n",
        "\n",
        "        print(f\"Epoch: {epoch}/{epochs}, Test Accuracy: {test_accuracy[-1]:.03f}, Test Loss: {test_loss[-1]:.03f}, Train Accuracy: {train_accuracy[-1]:.03f}, Train Loss: {train_loss[-1]:.03f}\")\n",
        "\n",
        "print(f\"Final Test Accuracy: {(test_preds.argmax(dim=1) == y_test).float().mean():.03f}\")\n",
        "print(f\"Final Test Loss: {loss(test_preds, y_test):.03f}\")\n",
        "print(f\"Final Train Accuracy: {(train_preds.argmax(dim=1) == y_train).float().mean():.03f}\")\n",
        "print(f\"Final Train Loss: {loss(train_preds, y_train):.03f}\")\n",
        "\n",
        "fig, axs = plt.subplots(1, 2, figsize=(15, 5))\n",
        "\n",
        "# Accuracy\n",
        "axs[0].plot(range(0, epochs, epochs // 10), list(map(lambda x: x.cpu().detach(), test_accuracy)), 'bo-', label='Test accuracy')\n",
        "axs[0].plot(range(0, epochs, epochs // 10), list(map(lambda x: x.cpu().detach(), train_accuracy)), 'go-', label='Train accuracy')\n",
        "axs[0].set_title('Accuracy')\n",
        "axs[0].set_xlabel('Epochs')\n",
        "axs[0].set_ylabel('Accuracy')\n",
        "axs[0].set_xticks(range(0, epochs, epochs // 10))\n",
        "axs[0].legend()\n",
        "\n",
        "# Loss\n",
        "axs[1].plot(range(0, epochs, epochs // 10), list(map(lambda x: x.cpu().detach(), test_loss)), 'ro-', label='Test loss')\n",
        "axs[1].plot(range(0, epochs, epochs // 10), list(map(lambda x: x.cpu().detach(), train_loss)), 'mo-', label='Train loss')\n",
        "axs[1].set_title('Loss')\n",
        "axs[1].set_xlabel('Epochs')\n",
        "axs[1].set_ylabel('Loss')\n",
        "axs[1].set_xticks(range(0, epochs, epochs // 10))\n",
        "axs[1].legend()\n",
        "\n",
        "plt.tight_layout()\n",
        "plt.show()"
      ]
    },
    {
      "cell_type": "markdown",
      "metadata": {
        "id": "qcrjALuzZSSH"
      },
      "source": [
        "Бачимо, що результати навчання дещо гірші у порівнянні з Адам"
      ]
    },
    {
      "cell_type": "code",
      "execution_count": null,
      "metadata": {
        "id": "7IRvVA5qZSSH"
      },
      "outputs": [],
      "source": [
        "import torch\n",
        "\n",
        "class CustomLinear(torch.nn.Module):\n",
        "    def __init__(self, in_features, out_features):\n",
        "        super(CustomLinear, self).__init__()\n",
        "        self.weights = torch.nn.Parameter(torch.randn(out_features, in_features) * 0.01)\n",
        "        self.bias = torch.nn.Parameter(torch.zeros(out_features))\n",
        "\n",
        "    def forward(self, x):\n",
        "        return x @ self.weights.t() + self.bias\n",
        "\n",
        "\n",
        "class MNISTNet(torch.nn.Module):\n",
        "    def __init__(self, n_hidden_neurons):\n",
        "        super(MNISTNet, self).__init__()\n",
        "        self.fc1 = CustomLinear(28 * 28, n_hidden_neurons)\n",
        "        self.ac1 = torch.nn.Sigmoid()\n",
        "        self.fc2 = CustomLinear(n_hidden_neurons, 10)\n",
        "\n",
        "    def forward(self, x):\n",
        "        x = self.fc1(x)\n",
        "        x = self.ac1(x)\n",
        "        x = self.fc2(x)\n",
        "        return x\n",
        "\n",
        "mnist_net = MNISTNet(100).to(device)"
      ]
    },
    {
      "cell_type": "markdown",
      "metadata": {
        "id": "RLuWbNSPZSSH"
      },
      "source": [
        "Реалізуйте функціональність torch.nn.Linear з нуля і звірте з\n",
        "оригіналом!"
      ]
    },
    {
      "cell_type": "code",
      "execution_count": null,
      "metadata": {
        "id": "IA55tOuHZSSH",
        "outputId": "34e79bdf-c8e0-4199-916d-44d250724d66"
      },
      "outputs": [
        {
          "name": "stdout",
          "output_type": "stream",
          "text": [
            "Epoch: 0/100, Test Accuracy: 0.961, Test Loss: 0.132, Train Accuracy: 0.971, Train Loss: 0.093\n",
            "Epoch: 10/100, Test Accuracy: 0.962, Test Loss: 0.126, Train Accuracy: 0.970, Train Loss: 0.094\n",
            "Epoch: 20/100, Test Accuracy: 0.962, Test Loss: 0.132, Train Accuracy: 0.971, Train Loss: 0.094\n",
            "Epoch: 30/100, Test Accuracy: 0.964, Test Loss: 0.123, Train Accuracy: 0.974, Train Loss: 0.086\n",
            "Epoch: 40/100, Test Accuracy: 0.964, Test Loss: 0.123, Train Accuracy: 0.974, Train Loss: 0.086\n",
            "Epoch: 50/100, Test Accuracy: 0.961, Test Loss: 0.140, Train Accuracy: 0.970, Train Loss: 0.094\n",
            "Epoch: 60/100, Test Accuracy: 0.964, Test Loss: 0.122, Train Accuracy: 0.973, Train Loss: 0.087\n",
            "Epoch: 70/100, Test Accuracy: 0.962, Test Loss: 0.126, Train Accuracy: 0.973, Train Loss: 0.086\n",
            "Epoch: 80/100, Test Accuracy: 0.962, Test Loss: 0.127, Train Accuracy: 0.974, Train Loss: 0.084\n",
            "Epoch: 90/100, Test Accuracy: 0.963, Test Loss: 0.124, Train Accuracy: 0.973, Train Loss: 0.089\n",
            "Final Test Accuracy: 0.963\n",
            "Final Test Loss: 0.124\n",
            "Final Train Accuracy: 0.973\n",
            "Final Train Loss: 0.089\n"
          ]
        }
      ],
      "source": [
        "import torch\n",
        "import numpy as np\n",
        "\n",
        "loss = torch.nn.CrossEntropyLoss()\n",
        "optimizer = torch.optim.Adam(mnist_net.parameters(), lr=1.0e-3)\n",
        "\n",
        "batch_size = 100\n",
        "epochs = 100\n",
        "test_accuracy = []\n",
        "test_loss = []\n",
        "train_accuracy = []\n",
        "train_loss = []\n",
        "\n",
        "for epoch in range(epochs):\n",
        "    order = np.random.permutation(len(X_train))\n",
        "    for start_index in range(0, len(X_train), batch_size):\n",
        "        optimizer.zero_grad()\n",
        "        batch_indexes = order[start_index:start_index+batch_size]\n",
        "        X_batch = X_train[batch_indexes]\n",
        "        y_batch = y_train[batch_indexes]\n",
        "        preds = mnist_net.forward(X_batch)\n",
        "        loss_value = loss(preds, y_batch)\n",
        "        loss_value.backward()\n",
        "        optimizer.step()\n",
        "\n",
        "    if epoch % (epochs // 10) == 0:\n",
        "        # Test (validation)\n",
        "        with torch.no_grad():\n",
        "            test_preds = mnist_net.forward(X_test)\n",
        "            test_loss_value = loss(test_preds, y_test)\n",
        "            test_accuracy_value = (test_preds.argmax(dim=1) == y_test).float().mean()\n",
        "\n",
        "        test_loss.append(test_loss_value.item())\n",
        "        test_accuracy.append(test_accuracy_value.item())\n",
        "\n",
        "        # Train\n",
        "        with torch.no_grad():\n",
        "            train_preds = mnist_net.forward(X_train)\n",
        "            train_loss_value = loss(train_preds, y_train)\n",
        "            train_accuracy_value = (train_preds.argmax(dim=1) == y_train).float().mean()\n",
        "\n",
        "        train_loss.append(train_loss_value.item())\n",
        "        train_accuracy.append(train_accuracy_value.item())\n",
        "\n",
        "        print(f\"Epoch: {epoch}/{epochs}, Test Accuracy: {test_accuracy[-1]:.03f}, Test Loss: {test_loss[-1]:.03f}, Train Accuracy: {train_accuracy[-1]:.03f}, Train Loss: {train_loss[-1]:.03f}\")\n",
        "\n",
        "print(f\"Final Test Accuracy: {test_accuracy[-1]:.03f}\")\n",
        "print(f\"Final Test Loss: {test_loss[-1]:.03f}\")\n",
        "print(f\"Final Train Accuracy: {train_accuracy[-1]:.03f}\")\n",
        "print(f\"Final Train Loss: {train_loss[-1]:.03f}\")"
      ]
    },
    {
      "cell_type": "markdown",
      "metadata": {
        "id": "fD52EWFEZSSI"
      },
      "source": [
        "Перші результати:\n",
        "\n",
        "`\n",
        "Final Test Accuracy: 0.955\n",
        "Final Test Loss: 0.147\n",
        "Final Train Accuracy: 0.961\n",
        "Final Train Loss: 0.128\n",
        "`\n",
        "\n",
        "Бачимо невелике покращення. Можна списати на похибку обчислень. Одже результат незмінний"
      ]
    },
    {
      "cell_type": "markdown",
      "metadata": {
        "id": "nlU16tx0ZSSI"
      },
      "source": [
        "Знайдіть оптимальну кількість епох для навчання, аналізуючи\n",
        "графіки втрат.\n",
        "\n",
        "Виходячи з отриманих графіків, можна вважати що оптимальна кількість епох приблизно 30-50"
      ]
    },
    {
      "cell_type": "markdown",
      "metadata": {
        "id": "vEOUY0FqZSSI"
      },
      "source": [
        "Нехай у нас буде 1 об'єкт x на вході з двома компонентами. Його\n",
        "ми передамо в повнозв'язний шар з 3-ма нейронами і отримаємо,\n",
        "відповідно, 3 виходи. Після цього напишіть цю ж функціональність\n",
        "за допомогою матричного множення. Та перевірте розрахунок\n",
        "похідної."
      ]
    },
    {
      "cell_type": "code",
      "execution_count": null,
      "metadata": {
        "id": "z46cC-p2ZSSI",
        "outputId": "329c0c75-7826-4721-deba-6254b9444750"
      },
      "outputs": [
        {
          "name": "stdout",
          "output_type": "stream",
          "text": [
            "Порівняння виходів fc-шара та матричного множення: tensor([[True, True, True]])\n",
            "fc_weight_grad: tensor([[10., 20.],\n",
            "        [10., 20.],\n",
            "        [10., 20.]])\n",
            "our_weight_grad: tensor([[10., 20.],\n",
            "        [10., 20.],\n",
            "        [10., 20.]])\n",
            "fc_bias_grad: tensor([1., 1., 1.])\n",
            "out_bias_grad: tensor([1., 1., 1.])\n"
          ]
        }
      ],
      "source": [
        "import torch\n",
        "\n",
        "# Створимо тензор x:\n",
        "x = torch.tensor([[10., 20.]], requires_grad=True)\n",
        "\n",
        "# Оригінальний повнозв’язний шар із 2-ма входами та 3-ма нейронами (виходами):\n",
        "fc = torch.nn.Linear(2, 3)\n",
        "\n",
        "# Задамо свої значення ваг та зміщень:\n",
        "w = torch.tensor([[11., 12.], [21., 22.], [31., 32]], requires_grad=True)\n",
        "fc.weight.data = w\n",
        "b = torch.tensor([31., 32., 33.], requires_grad=True)\n",
        "fc.bias.data = b\n",
        "\n",
        "# Отримаємо вихід fc-шара:\n",
        "fc_out = fc(x)\n",
        "\n",
        "# Просумуємо виходи із fc-шара, щоб отримати скаляр:\n",
        "fc_out_summed = fc_out.sum()\n",
        "\n",
        "# Порахуємо градієнти формули fc_out_summed:\n",
        "fc_out_summed.backward()\n",
        "\n",
        "weight_grad = fc.weight.grad\n",
        "bias_grad = fc.bias.grad\n",
        "\n",
        "# Тепер зробимо розрахунки без fc-шару:\n",
        "# Зазначимо, що у \"w\" та \"b\" необхідно розраховувати градієнти:\n",
        "w.requires_grad_(True)\n",
        "b.requires_grad_(True)\n",
        "\n",
        "# Обчислимо вихід за допомогою матричного множення:\n",
        "fc_out_alternative = torch.matmul(x, w.T) + b\n",
        "\n",
        "# Просумуємо виходи для отримання скаляра:\n",
        "our_formula = fc_out_alternative.sum()\n",
        "\n",
        "# Порахуємо градієнти для нашої формули:\n",
        "our_formula.backward()\n",
        "\n",
        "# Аналіз результатів:\n",
        "print(\"Порівняння виходів fc-шара та матричного множення:\", fc_out == fc_out_alternative)\n",
        "print('fc_weight_grad:', weight_grad)\n",
        "print('our_weight_grad:', w.grad)\n",
        "print('fc_bias_grad:', bias_grad)\n",
        "print('out_bias_grad:', b.grad)"
      ]
    },
    {
      "cell_type": "markdown",
      "metadata": {
        "id": "4-yVDVpHZSSI"
      },
      "source": [
        "Можна зробити висновок, що як для обчислення значень на виході, так і для розрахунку градієнтів альтернативний підхід з використанням матричного множення повністю еквівалентний вбудованому шару Linear у PyTorch."
      ]
    },
    {
      "cell_type": "markdown",
      "metadata": {
        "id": "EM2rBDYuZSSI"
      },
      "source": [
        "Адаптувати розроблену модель для роботи з набором даних\n",
        "CIFAR 10."
      ]
    },
    {
      "cell_type": "code",
      "execution_count": null,
      "metadata": {
        "id": "Oa9cLJfTZSSI",
        "outputId": "bcf10127-5e71-49bd-e8b7-c97663e08355"
      },
      "outputs": [
        {
          "name": "stdout",
          "output_type": "stream",
          "text": [
            "Downloading https://www.cs.toronto.edu/~kriz/cifar-10-python.tar.gz to ./data/cifar-10-python.tar.gz\n"
          ]
        },
        {
          "name": "stderr",
          "output_type": "stream",
          "text": [
            "100.0%\n"
          ]
        },
        {
          "name": "stdout",
          "output_type": "stream",
          "text": [
            "Extracting ./data/cifar-10-python.tar.gz to ./data\n",
            "Files already downloaded and verified\n",
            "['airplane', 'automobile', 'bird', 'cat', 'deer', 'dog', 'frog', 'horse', 'ship', 'truck']\n",
            "Epoch: 1, Train Loss: 1.634, Test Loss: 1.510, Accuracy: 46.94%\n",
            "Epoch: 2, Train Loss: 1.429, Test Loss: 1.435, Accuracy: 49.95%\n",
            "Epoch: 3, Train Loss: 1.320, Test Loss: 1.403, Accuracy: 50.41%\n",
            "Epoch: 4, Train Loss: 1.229, Test Loss: 1.391, Accuracy: 51.88%\n",
            "Epoch: 5, Train Loss: 1.149, Test Loss: 1.342, Accuracy: 53.33%\n",
            "Epoch: 6, Train Loss: 1.072, Test Loss: 1.392, Accuracy: 52.73%\n",
            "Epoch: 7, Train Loss: 1.003, Test Loss: 1.400, Accuracy: 53.34%\n",
            "Epoch: 8, Train Loss: 0.934, Test Loss: 1.412, Accuracy: 53.13%\n",
            "Epoch: 9, Train Loss: 0.869, Test Loss: 1.482, Accuracy: 53.16%\n",
            "Epoch: 10, Train Loss: 0.804, Test Loss: 1.537, Accuracy: 53.33%\n",
            "Epoch: 11, Train Loss: 0.748, Test Loss: 1.604, Accuracy: 52.91%\n",
            "Epoch: 12, Train Loss: 0.695, Test Loss: 1.639, Accuracy: 53.25%\n",
            "Epoch: 13, Train Loss: 0.647, Test Loss: 1.759, Accuracy: 52.75%\n",
            "Epoch: 14, Train Loss: 0.604, Test Loss: 1.816, Accuracy: 52.41%\n",
            "Epoch: 15, Train Loss: 0.558, Test Loss: 1.893, Accuracy: 52.60%\n",
            "Epoch: 16, Train Loss: 0.523, Test Loss: 1.942, Accuracy: 53.29%\n",
            "Epoch: 17, Train Loss: 0.482, Test Loss: 2.129, Accuracy: 53.21%\n",
            "Epoch: 18, Train Loss: 0.456, Test Loss: 2.153, Accuracy: 52.94%\n",
            "Epoch: 19, Train Loss: 0.416, Test Loss: 2.259, Accuracy: 52.83%\n",
            "Epoch: 20, Train Loss: 0.411, Test Loss: 2.391, Accuracy: 52.73%\n",
            "Тренування завершено\n",
            "Кінцева точність на тестовому наборі: 52.73%\n"
          ]
        }
      ],
      "source": [
        "import torch\n",
        "import torch.nn as nn\n",
        "import torch.optim as optim\n",
        "import torchvision\n",
        "import torchvision.transforms as transforms\n",
        "from torch.utils.data import DataLoader\n",
        "\n",
        "# Параметри\n",
        "batch_size = 64\n",
        "epochs = 20\n",
        "learning_rate = 0.001\n",
        "device = 'cuda' if torch.cuda.is_available() else 'cpu'\n",
        "\n",
        "# Завантаження та підготовка даних CIFAR-10\n",
        "transform = transforms.Compose(\n",
        "    [transforms.ToTensor(),\n",
        "     transforms.Normalize((0.5, 0.5, 0.5), (0.5, 0.5, 0.5))])\n",
        "\n",
        "CIFAR_train = torchvision.datasets.CIFAR10(root='./data', train=True, download=True, transform=transform)\n",
        "CIFAR_test = torchvision.datasets.CIFAR10(root='./data', train=False, download=True, transform=transform)\n",
        "\n",
        "train_loader = DataLoader(CIFAR_train, batch_size=batch_size, shuffle=True)\n",
        "test_loader = DataLoader(CIFAR_test, batch_size=batch_size, shuffle=False)\n",
        "\n",
        "print(CIFAR_train.classes)  # Виведення класів\n",
        "\n",
        "# Нейронна мережа для CIFAR-10\n",
        "class CIFARNet(nn.Module):\n",
        "    def __init__(self, n_hidden_neurons):\n",
        "        super(CIFARNet, self).__init__()\n",
        "        self.fc1 = nn.Linear(32 * 32 * 3, n_hidden_neurons)\n",
        "        self.ac1 = nn.ReLU()\n",
        "        self.fc2 = nn.Linear(n_hidden_neurons, n_hidden_neurons)\n",
        "        self.ac2 = nn.ReLU()\n",
        "        self.fc3 = nn.Linear(n_hidden_neurons, 10)\n",
        "\n",
        "    def forward(self, x):\n",
        "        x = x.view(-1, 32 * 32 * 3)  # Перетворення зображення на вектор\n",
        "        x = self.fc1(x)\n",
        "        x = self.ac1(x)\n",
        "        x = self.fc2(x)\n",
        "        x = self.ac2(x)\n",
        "        x = self.fc3(x)\n",
        "        return x\n",
        "\n",
        "cifar_net = CIFARNet(n_hidden_neurons=256).to(device)\n",
        "\n",
        "# Оптимізація та функція втрат\n",
        "optimizer = optim.Adam(cifar_net.parameters(), lr=learning_rate)\n",
        "loss_function = nn.CrossEntropyLoss()\n",
        "\n",
        "# Тренування моделі\n",
        "train_losses = []\n",
        "test_losses = []\n",
        "\n",
        "for epoch in range(epochs):\n",
        "    cifar_net.train()\n",
        "    running_loss = 0.0\n",
        "\n",
        "    for X_batch, y_batch in train_loader:\n",
        "        X_batch, y_batch = X_batch.to(device), y_batch.to(device)\n",
        "        optimizer.zero_grad()\n",
        "        preds = cifar_net(X_batch)\n",
        "        loss = loss_function(preds, y_batch)\n",
        "        loss.backward()\n",
        "        optimizer.step()\n",
        "        running_loss += loss.item()\n",
        "\n",
        "    train_losses.append(running_loss / len(train_loader))\n",
        "\n",
        "    # Валідація\n",
        "    cifar_net.eval()\n",
        "    val_loss = 0.0\n",
        "    correct = 0\n",
        "    total = 0\n",
        "    with torch.no_grad():\n",
        "        for X_batch, y_batch in test_loader:\n",
        "            X_batch, y_batch = X_batch.to(device), y_batch.to(device)\n",
        "            preds = cifar_net(X_batch)\n",
        "            loss = loss_function(preds, y_batch)\n",
        "            val_loss += loss.item()\n",
        "            _, predicted = preds.max(1)\n",
        "            total += y_batch.size(0)\n",
        "            correct += predicted.eq(y_batch).sum().item()\n",
        "\n",
        "    test_losses.append(val_loss / len(test_loader))\n",
        "    accuracy = 100. * correct / total\n",
        "    print(f'Epoch: {epoch+1}, Train Loss: {train_losses[-1]:.3f}, Test Loss: {test_losses[-1]:.3f}, Accuracy: {accuracy:.2f}%')\n",
        "\n",
        "print('Тренування завершено')\n",
        "\n",
        "# Результати:\n",
        "print(f\"Кінцева точність на тестовому наборі: {accuracy:.2f}%\")"
      ]
    }
  ],
  "metadata": {
    "kernelspec": {
      "display_name": ".venv",
      "language": "python",
      "name": "python3"
    },
    "language_info": {
      "codemirror_mode": {
        "name": "ipython",
        "version": 3
      },
      "file_extension": ".py",
      "mimetype": "text/x-python",
      "name": "python",
      "nbconvert_exporter": "python",
      "pygments_lexer": "ipython3",
      "version": "3.12.3"
    },
    "colab": {
      "provenance": []
    }
  },
  "nbformat": 4,
  "nbformat_minor": 0
}