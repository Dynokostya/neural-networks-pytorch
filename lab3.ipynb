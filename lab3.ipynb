{
 "cells": [
  {
   "cell_type": "markdown",
   "metadata": {},
   "source": [
    "# Компʼютерний практикум №2\n",
    "Виконав студент групи ЗК-41мп Гломозда Костянтин\n",
    "\n",
    "ОСНОВИ РОБОТИ З БІБЛІОТЕКОЮ PANDAS"
   ]
  },
  {
   "cell_type": "markdown",
   "metadata": {},
   "source": [
    "# Завдання 1"
   ]
  },
  {
   "cell_type": "code",
   "execution_count": 10,
   "metadata": {},
   "outputs": [
    {
     "data": {
      "text/html": [
       "<div>\n",
       "<style scoped>\n",
       "    .dataframe tbody tr th:only-of-type {\n",
       "        vertical-align: middle;\n",
       "    }\n",
       "\n",
       "    .dataframe tbody tr th {\n",
       "        vertical-align: top;\n",
       "    }\n",
       "\n",
       "    .dataframe thead th {\n",
       "        text-align: right;\n",
       "    }\n",
       "</style>\n",
       "<table border=\"1\" class=\"dataframe\">\n",
       "  <thead>\n",
       "    <tr style=\"text-align: right;\">\n",
       "      <th></th>\n",
       "      <th>Survived</th>\n",
       "      <th>Pclass</th>\n",
       "      <th>Name</th>\n",
       "      <th>Sex</th>\n",
       "      <th>Age</th>\n",
       "      <th>SibSp</th>\n",
       "      <th>Parch</th>\n",
       "      <th>Ticket</th>\n",
       "      <th>Fare</th>\n",
       "      <th>Cabin</th>\n",
       "      <th>Embarked</th>\n",
       "    </tr>\n",
       "    <tr>\n",
       "      <th>PassengerId</th>\n",
       "      <th></th>\n",
       "      <th></th>\n",
       "      <th></th>\n",
       "      <th></th>\n",
       "      <th></th>\n",
       "      <th></th>\n",
       "      <th></th>\n",
       "      <th></th>\n",
       "      <th></th>\n",
       "      <th></th>\n",
       "      <th></th>\n",
       "    </tr>\n",
       "  </thead>\n",
       "  <tbody>\n",
       "    <tr>\n",
       "      <th>1</th>\n",
       "      <td>0</td>\n",
       "      <td>3</td>\n",
       "      <td>Braund, Mr. Owen Harris</td>\n",
       "      <td>male</td>\n",
       "      <td>22.0</td>\n",
       "      <td>1</td>\n",
       "      <td>0</td>\n",
       "      <td>A/5 21171</td>\n",
       "      <td>7.2500</td>\n",
       "      <td>NaN</td>\n",
       "      <td>S</td>\n",
       "    </tr>\n",
       "    <tr>\n",
       "      <th>2</th>\n",
       "      <td>1</td>\n",
       "      <td>1</td>\n",
       "      <td>Cumings, Mrs. John Bradley (Florence Briggs Th...</td>\n",
       "      <td>female</td>\n",
       "      <td>38.0</td>\n",
       "      <td>1</td>\n",
       "      <td>0</td>\n",
       "      <td>PC 17599</td>\n",
       "      <td>71.2833</td>\n",
       "      <td>C85</td>\n",
       "      <td>C</td>\n",
       "    </tr>\n",
       "    <tr>\n",
       "      <th>3</th>\n",
       "      <td>1</td>\n",
       "      <td>3</td>\n",
       "      <td>Heikkinen, Miss. Laina</td>\n",
       "      <td>female</td>\n",
       "      <td>26.0</td>\n",
       "      <td>0</td>\n",
       "      <td>0</td>\n",
       "      <td>STON/O2. 3101282</td>\n",
       "      <td>7.9250</td>\n",
       "      <td>NaN</td>\n",
       "      <td>S</td>\n",
       "    </tr>\n",
       "    <tr>\n",
       "      <th>4</th>\n",
       "      <td>1</td>\n",
       "      <td>1</td>\n",
       "      <td>Futrelle, Mrs. Jacques Heath (Lily May Peel)</td>\n",
       "      <td>female</td>\n",
       "      <td>35.0</td>\n",
       "      <td>1</td>\n",
       "      <td>0</td>\n",
       "      <td>113803</td>\n",
       "      <td>53.1000</td>\n",
       "      <td>C123</td>\n",
       "      <td>S</td>\n",
       "    </tr>\n",
       "    <tr>\n",
       "      <th>5</th>\n",
       "      <td>0</td>\n",
       "      <td>3</td>\n",
       "      <td>Allen, Mr. William Henry</td>\n",
       "      <td>male</td>\n",
       "      <td>35.0</td>\n",
       "      <td>0</td>\n",
       "      <td>0</td>\n",
       "      <td>373450</td>\n",
       "      <td>8.0500</td>\n",
       "      <td>NaN</td>\n",
       "      <td>S</td>\n",
       "    </tr>\n",
       "  </tbody>\n",
       "</table>\n",
       "</div>"
      ],
      "text/plain": [
       "             Survived  Pclass  \\\n",
       "PassengerId                     \n",
       "1                   0       3   \n",
       "2                   1       1   \n",
       "3                   1       3   \n",
       "4                   1       1   \n",
       "5                   0       3   \n",
       "\n",
       "                                                          Name     Sex   Age  \\\n",
       "PassengerId                                                                    \n",
       "1                                      Braund, Mr. Owen Harris    male  22.0   \n",
       "2            Cumings, Mrs. John Bradley (Florence Briggs Th...  female  38.0   \n",
       "3                                       Heikkinen, Miss. Laina  female  26.0   \n",
       "4                 Futrelle, Mrs. Jacques Heath (Lily May Peel)  female  35.0   \n",
       "5                                     Allen, Mr. William Henry    male  35.0   \n",
       "\n",
       "             SibSp  Parch            Ticket     Fare Cabin Embarked  \n",
       "PassengerId                                                          \n",
       "1                1      0         A/5 21171   7.2500   NaN        S  \n",
       "2                1      0          PC 17599  71.2833   C85        C  \n",
       "3                0      0  STON/O2. 3101282   7.9250   NaN        S  \n",
       "4                1      0            113803  53.1000  C123        S  \n",
       "5                0      0            373450   8.0500   NaN        S  "
      ]
     },
     "execution_count": 10,
     "metadata": {},
     "output_type": "execute_result"
    }
   ],
   "source": [
    "import pandas as pd\n",
    "import os\n",
    "\n",
    "file_path = os.path.join('data/train.csv')\n",
    "titanic_data = pd.read_csv(file_path, index_col='PassengerId')\n",
    "\n",
    "titanic_data.head()"
   ]
  },
  {
   "cell_type": "markdown",
   "metadata": {},
   "source": [
    "a) Яка кількість чоловіків і жінок їхала на кораблі? Приведіть два числа через пробіл."
   ]
  },
  {
   "cell_type": "code",
   "execution_count": 11,
   "metadata": {},
   "outputs": [
    {
     "name": "stdout",
     "output_type": "stream",
     "text": [
      "577 314\n"
     ]
    }
   ],
   "source": [
    "gender_counts = titanic_data['Sex'].value_counts()\n",
    "\n",
    "print(gender_counts['male'], gender_counts['female'])"
   ]
  },
  {
   "cell_type": "markdown",
   "metadata": {},
   "source": [
    "b) Якій частині пасажирів вдалося вижити? Порахуйте частку пасажирів, що вижили."
   ]
  },
  {
   "cell_type": "code",
   "execution_count": 12,
   "metadata": {},
   "outputs": [
    {
     "name": "stdout",
     "output_type": "stream",
     "text": [
      "38.38\n"
     ]
    }
   ],
   "source": [
    "survival_rate = (titanic_data['Survived'].mean() * 100).round(2)\n",
    "\n",
    "print(survival_rate)"
   ]
  },
  {
   "cell_type": "markdown",
   "metadata": {},
   "source": [
    "c) Яку частку пасажири першого класу складали серед всіх пасажирів?"
   ]
  },
  {
   "cell_type": "code",
   "execution_count": 13,
   "metadata": {},
   "outputs": [
    {
     "name": "stdout",
     "output_type": "stream",
     "text": [
      "24.24\n"
     ]
    }
   ],
   "source": [
    "first_class_rate = (titanic_data['Pclass'].value_counts(normalize=True)[1] * 100).round(2)\n",
    "\n",
    "print(first_class_rate)"
   ]
  },
  {
   "cell_type": "markdown",
   "metadata": {},
   "source": [
    "d) Якого віку були пасажири? Порахуйте середнє і медіану віку пасажирів."
   ]
  },
  {
   "cell_type": "code",
   "execution_count": 14,
   "metadata": {},
   "outputs": [
    {
     "name": "stdout",
     "output_type": "stream",
     "text": [
      "29.7 28.0\n"
     ]
    }
   ],
   "source": [
    "mean_age = titanic_data['Age'].mean().round(2)\n",
    "median_age = titanic_data['Age'].median()\n",
    "\n",
    "print(mean_age, median_age)"
   ]
  },
  {
   "cell_type": "markdown",
   "metadata": {},
   "source": [
    "e) Чи корелює число братів / сестер / подружжя з числом батьків / дітей?"
   ]
  },
  {
   "cell_type": "code",
   "execution_count": 15,
   "metadata": {},
   "outputs": [
    {
     "name": "stdout",
     "output_type": "stream",
     "text": [
      "0.41483769862015624\n"
     ]
    }
   ],
   "source": [
    "correlation = titanic_data[['SibSp', 'Parch']].corr(method='pearson').iloc[0, 1]\n",
    "\n",
    "print(correlation)"
   ]
  },
  {
   "cell_type": "markdown",
   "metadata": {},
   "source": [
    "f) Яке найпопулярніше жіноче ім'я на кораблі?"
   ]
  },
  {
   "cell_type": "code",
   "execution_count": 16,
   "metadata": {},
   "outputs": [
    {
     "name": "stdout",
     "output_type": "stream",
     "text": [
      "Anna\n"
     ]
    }
   ],
   "source": [
    "female_names = titanic_data[titanic_data['Sex'] == 'female']['Name']\n",
    "first_names = female_names.str.extract(r'(\\w+)\\)').fillna(female_names.str.extract(r'Miss\\. (\\w+)'))\n",
    "most_common_female_name = first_names[0].value_counts().idxmax()\n",
    "\n",
    "print(most_common_female_name)"
   ]
  },
  {
   "cell_type": "markdown",
   "metadata": {},
   "source": [
    "# Завдання 2"
   ]
  },
  {
   "cell_type": "code",
   "execution_count": 17,
   "metadata": {},
   "outputs": [
    {
     "data": {
      "text/html": [
       "<div>\n",
       "<style scoped>\n",
       "    .dataframe tbody tr th:only-of-type {\n",
       "        vertical-align: middle;\n",
       "    }\n",
       "\n",
       "    .dataframe tbody tr th {\n",
       "        vertical-align: top;\n",
       "    }\n",
       "\n",
       "    .dataframe thead th {\n",
       "        text-align: right;\n",
       "    }\n",
       "</style>\n",
       "<table border=\"1\" class=\"dataframe\">\n",
       "  <thead>\n",
       "    <tr style=\"text-align: right;\">\n",
       "      <th></th>\n",
       "      <th>world_rank</th>\n",
       "      <th>institution</th>\n",
       "      <th>country</th>\n",
       "      <th>national_rank</th>\n",
       "      <th>quality_of_education</th>\n",
       "      <th>alumni_employment</th>\n",
       "      <th>quality_of_faculty</th>\n",
       "      <th>publications</th>\n",
       "      <th>influence</th>\n",
       "      <th>citations</th>\n",
       "      <th>broad_impact</th>\n",
       "      <th>patents</th>\n",
       "      <th>score</th>\n",
       "      <th>year</th>\n",
       "    </tr>\n",
       "  </thead>\n",
       "  <tbody>\n",
       "    <tr>\n",
       "      <th>0</th>\n",
       "      <td>1</td>\n",
       "      <td>Harvard University</td>\n",
       "      <td>USA</td>\n",
       "      <td>1</td>\n",
       "      <td>7</td>\n",
       "      <td>9</td>\n",
       "      <td>1</td>\n",
       "      <td>1</td>\n",
       "      <td>1</td>\n",
       "      <td>1</td>\n",
       "      <td>NaN</td>\n",
       "      <td>5</td>\n",
       "      <td>100.00</td>\n",
       "      <td>2012</td>\n",
       "    </tr>\n",
       "    <tr>\n",
       "      <th>1</th>\n",
       "      <td>2</td>\n",
       "      <td>Massachusetts Institute of Technology</td>\n",
       "      <td>USA</td>\n",
       "      <td>2</td>\n",
       "      <td>9</td>\n",
       "      <td>17</td>\n",
       "      <td>3</td>\n",
       "      <td>12</td>\n",
       "      <td>4</td>\n",
       "      <td>4</td>\n",
       "      <td>NaN</td>\n",
       "      <td>1</td>\n",
       "      <td>91.67</td>\n",
       "      <td>2012</td>\n",
       "    </tr>\n",
       "    <tr>\n",
       "      <th>2</th>\n",
       "      <td>3</td>\n",
       "      <td>Stanford University</td>\n",
       "      <td>USA</td>\n",
       "      <td>3</td>\n",
       "      <td>17</td>\n",
       "      <td>11</td>\n",
       "      <td>5</td>\n",
       "      <td>4</td>\n",
       "      <td>2</td>\n",
       "      <td>2</td>\n",
       "      <td>NaN</td>\n",
       "      <td>15</td>\n",
       "      <td>89.50</td>\n",
       "      <td>2012</td>\n",
       "    </tr>\n",
       "    <tr>\n",
       "      <th>3</th>\n",
       "      <td>4</td>\n",
       "      <td>University of Cambridge</td>\n",
       "      <td>United Kingdom</td>\n",
       "      <td>1</td>\n",
       "      <td>10</td>\n",
       "      <td>24</td>\n",
       "      <td>4</td>\n",
       "      <td>16</td>\n",
       "      <td>16</td>\n",
       "      <td>11</td>\n",
       "      <td>NaN</td>\n",
       "      <td>50</td>\n",
       "      <td>86.17</td>\n",
       "      <td>2012</td>\n",
       "    </tr>\n",
       "    <tr>\n",
       "      <th>4</th>\n",
       "      <td>5</td>\n",
       "      <td>California Institute of Technology</td>\n",
       "      <td>USA</td>\n",
       "      <td>4</td>\n",
       "      <td>2</td>\n",
       "      <td>29</td>\n",
       "      <td>7</td>\n",
       "      <td>37</td>\n",
       "      <td>22</td>\n",
       "      <td>22</td>\n",
       "      <td>NaN</td>\n",
       "      <td>18</td>\n",
       "      <td>85.21</td>\n",
       "      <td>2012</td>\n",
       "    </tr>\n",
       "  </tbody>\n",
       "</table>\n",
       "</div>"
      ],
      "text/plain": [
       "   world_rank                            institution         country  \\\n",
       "0           1                     Harvard University             USA   \n",
       "1           2  Massachusetts Institute of Technology             USA   \n",
       "2           3                    Stanford University             USA   \n",
       "3           4                University of Cambridge  United Kingdom   \n",
       "4           5     California Institute of Technology             USA   \n",
       "\n",
       "   national_rank  quality_of_education  alumni_employment  quality_of_faculty  \\\n",
       "0              1                     7                  9                   1   \n",
       "1              2                     9                 17                   3   \n",
       "2              3                    17                 11                   5   \n",
       "3              1                    10                 24                   4   \n",
       "4              4                     2                 29                   7   \n",
       "\n",
       "   publications  influence  citations  broad_impact  patents   score  year  \n",
       "0             1          1          1           NaN        5  100.00  2012  \n",
       "1            12          4          4           NaN        1   91.67  2012  \n",
       "2             4          2          2           NaN       15   89.50  2012  \n",
       "3            16         16         11           NaN       50   86.17  2012  \n",
       "4            37         22         22           NaN       18   85.21  2012  "
      ]
     },
     "execution_count": 17,
     "metadata": {},
     "output_type": "execute_result"
    }
   ],
   "source": [
    "path_2 = os.path.join('data/cwurData.csv')\n",
    "cwur_data = pd.read_csv(path_2)\n",
    "\n",
    "cwur_data.head()"
   ]
  },
  {
   "cell_type": "markdown",
   "metadata": {},
   "source": [
    "a) У рейтингу залиште тільки дані за 2015 рік."
   ]
  },
  {
   "cell_type": "code",
   "execution_count": 18,
   "metadata": {},
   "outputs": [
    {
     "data": {
      "text/html": [
       "<div>\n",
       "<style scoped>\n",
       "    .dataframe tbody tr th:only-of-type {\n",
       "        vertical-align: middle;\n",
       "    }\n",
       "\n",
       "    .dataframe tbody tr th {\n",
       "        vertical-align: top;\n",
       "    }\n",
       "\n",
       "    .dataframe thead th {\n",
       "        text-align: right;\n",
       "    }\n",
       "</style>\n",
       "<table border=\"1\" class=\"dataframe\">\n",
       "  <thead>\n",
       "    <tr style=\"text-align: right;\">\n",
       "      <th></th>\n",
       "      <th>world_rank</th>\n",
       "      <th>institution</th>\n",
       "      <th>country</th>\n",
       "      <th>national_rank</th>\n",
       "      <th>quality_of_education</th>\n",
       "      <th>alumni_employment</th>\n",
       "      <th>quality_of_faculty</th>\n",
       "      <th>publications</th>\n",
       "      <th>influence</th>\n",
       "      <th>citations</th>\n",
       "      <th>broad_impact</th>\n",
       "      <th>patents</th>\n",
       "      <th>score</th>\n",
       "      <th>year</th>\n",
       "    </tr>\n",
       "  </thead>\n",
       "  <tbody>\n",
       "    <tr>\n",
       "      <th>1200</th>\n",
       "      <td>1</td>\n",
       "      <td>Harvard University</td>\n",
       "      <td>USA</td>\n",
       "      <td>1</td>\n",
       "      <td>1</td>\n",
       "      <td>1</td>\n",
       "      <td>1</td>\n",
       "      <td>1</td>\n",
       "      <td>1</td>\n",
       "      <td>1</td>\n",
       "      <td>1.0</td>\n",
       "      <td>3</td>\n",
       "      <td>100.00</td>\n",
       "      <td>2015</td>\n",
       "    </tr>\n",
       "    <tr>\n",
       "      <th>1201</th>\n",
       "      <td>2</td>\n",
       "      <td>Stanford University</td>\n",
       "      <td>USA</td>\n",
       "      <td>2</td>\n",
       "      <td>9</td>\n",
       "      <td>2</td>\n",
       "      <td>4</td>\n",
       "      <td>5</td>\n",
       "      <td>3</td>\n",
       "      <td>3</td>\n",
       "      <td>4.0</td>\n",
       "      <td>10</td>\n",
       "      <td>98.66</td>\n",
       "      <td>2015</td>\n",
       "    </tr>\n",
       "    <tr>\n",
       "      <th>1202</th>\n",
       "      <td>3</td>\n",
       "      <td>Massachusetts Institute of Technology</td>\n",
       "      <td>USA</td>\n",
       "      <td>3</td>\n",
       "      <td>3</td>\n",
       "      <td>11</td>\n",
       "      <td>2</td>\n",
       "      <td>15</td>\n",
       "      <td>2</td>\n",
       "      <td>2</td>\n",
       "      <td>2.0</td>\n",
       "      <td>1</td>\n",
       "      <td>97.54</td>\n",
       "      <td>2015</td>\n",
       "    </tr>\n",
       "    <tr>\n",
       "      <th>1203</th>\n",
       "      <td>4</td>\n",
       "      <td>University of Cambridge</td>\n",
       "      <td>United Kingdom</td>\n",
       "      <td>1</td>\n",
       "      <td>2</td>\n",
       "      <td>10</td>\n",
       "      <td>5</td>\n",
       "      <td>11</td>\n",
       "      <td>6</td>\n",
       "      <td>12</td>\n",
       "      <td>13.0</td>\n",
       "      <td>48</td>\n",
       "      <td>96.81</td>\n",
       "      <td>2015</td>\n",
       "    </tr>\n",
       "    <tr>\n",
       "      <th>1204</th>\n",
       "      <td>5</td>\n",
       "      <td>University of Oxford</td>\n",
       "      <td>United Kingdom</td>\n",
       "      <td>2</td>\n",
       "      <td>7</td>\n",
       "      <td>13</td>\n",
       "      <td>10</td>\n",
       "      <td>7</td>\n",
       "      <td>12</td>\n",
       "      <td>7</td>\n",
       "      <td>9.0</td>\n",
       "      <td>15</td>\n",
       "      <td>96.46</td>\n",
       "      <td>2015</td>\n",
       "    </tr>\n",
       "  </tbody>\n",
       "</table>\n",
       "</div>"
      ],
      "text/plain": [
       "      world_rank                            institution         country  \\\n",
       "1200           1                     Harvard University             USA   \n",
       "1201           2                    Stanford University             USA   \n",
       "1202           3  Massachusetts Institute of Technology             USA   \n",
       "1203           4                University of Cambridge  United Kingdom   \n",
       "1204           5                   University of Oxford  United Kingdom   \n",
       "\n",
       "      national_rank  quality_of_education  alumni_employment  \\\n",
       "1200              1                     1                  1   \n",
       "1201              2                     9                  2   \n",
       "1202              3                     3                 11   \n",
       "1203              1                     2                 10   \n",
       "1204              2                     7                 13   \n",
       "\n",
       "      quality_of_faculty  publications  influence  citations  broad_impact  \\\n",
       "1200                   1             1          1          1           1.0   \n",
       "1201                   4             5          3          3           4.0   \n",
       "1202                   2            15          2          2           2.0   \n",
       "1203                   5            11          6         12          13.0   \n",
       "1204                  10             7         12          7           9.0   \n",
       "\n",
       "      patents   score  year  \n",
       "1200        3  100.00  2015  \n",
       "1201       10   98.66  2015  \n",
       "1202        1   97.54  2015  \n",
       "1203       48   96.81  2015  \n",
       "1204       15   96.46  2015  "
      ]
     },
     "execution_count": 18,
     "metadata": {},
     "output_type": "execute_result"
    }
   ],
   "source": [
    "data_2015 = cwur_data[cwur_data['year'] == 2015]\n",
    "\n",
    "data_2015.head()"
   ]
  },
  {
   "cell_type": "markdown",
   "metadata": {},
   "source": [
    "b) Обчисліть максимальний, мінімальний і середній загальний бал світового рейтингу."
   ]
  },
  {
   "cell_type": "code",
   "execution_count": 20,
   "metadata": {},
   "outputs": [
    {
     "name": "stdout",
     "output_type": "stream",
     "text": [
      "100.0 44.02 46.86\n"
     ]
    }
   ],
   "source": [
    "max_score = data_2015['score'].max()\n",
    "min_score = data_2015['score'].min()\n",
    "mean_score = data_2015['score'].mean().round(2)\n",
    "\n",
    "print(max_score, min_score, mean_score)"
   ]
  },
  {
   "cell_type": "markdown",
   "metadata": {},
   "source": [
    "c) Для всіх згаданих країн виведіть кількість університетів, які увійшли до світового рейтингу."
   ]
  },
  {
   "cell_type": "code",
   "execution_count": 21,
   "metadata": {},
   "outputs": [
    {
     "name": "stdout",
     "output_type": "stream",
     "text": [
      "country\n",
      "USA                     229\n",
      "China                    83\n",
      "Japan                    74\n",
      "United Kingdom           65\n",
      "Germany                  55\n",
      "France                   49\n",
      "Italy                    47\n",
      "Spain                    40\n",
      "South Korea              36\n",
      "Canada                   33\n",
      "Australia                27\n",
      "Taiwan                   21\n",
      "Brazil                   18\n",
      "India                    16\n",
      "Netherlands              13\n",
      "Austria                  12\n",
      "Sweden                   11\n",
      "Turkey                   10\n",
      "Belgium                  10\n",
      "Switzerland               9\n",
      "Poland                    9\n",
      "Finland                   9\n",
      "Ireland                   8\n",
      "Iran                      8\n",
      "Israel                    7\n",
      "Portugal                  7\n",
      "Greece                    7\n",
      "New Zealand               6\n",
      "Hong Kong                 6\n",
      "Hungary                   6\n",
      "Czech Republic            5\n",
      "Russia                    5\n",
      "South Africa              5\n",
      "Norway                    5\n",
      "Denmark                   5\n",
      "Saudi Arabia              4\n",
      "Chile                     4\n",
      "Egypt                     4\n",
      "Thailand                  3\n",
      "Argentina                 3\n",
      "Malaysia                  3\n",
      "Singapore                 2\n",
      "Mexico                    2\n",
      "Romania                   2\n",
      "Colombia                  2\n",
      "Slovenia                  2\n",
      "Iceland                   1\n",
      "Estonia                   1\n",
      "Slovak Republic           1\n",
      "Lebanon                   1\n",
      "Croatia                   1\n",
      "Lithuania                 1\n",
      "Serbia                    1\n",
      "Uruguay                   1\n",
      "Bulgaria                  1\n",
      "Uganda                    1\n",
      "Cyprus                    1\n",
      "United Arab Emirates      1\n",
      "Puerto Rico               1\n",
      "Name: count, dtype: int64\n"
     ]
    }
   ],
   "source": [
    "universities_by_country = data_2015['country'].value_counts()\n",
    "\n",
    "print(universities_by_country)"
   ]
  },
  {
   "cell_type": "markdown",
   "metadata": {},
   "source": [
    "d) Обчисліть для кожної країни величину що є сумою загальних балів його університетів."
   ]
  },
  {
   "cell_type": "code",
   "execution_count": 22,
   "metadata": {},
   "outputs": [
    {
     "name": "stdout",
     "output_type": "stream",
     "text": [
      "country\n",
      "USA                     11475.24\n",
      "China                    3724.58\n",
      "Japan                    3423.63\n",
      "United Kingdom           3120.30\n",
      "Germany                  2543.14\n",
      "France                   2258.18\n",
      "Italy                    2126.85\n",
      "Spain                    1793.80\n",
      "South Korea              1651.65\n",
      "Canada                   1543.89\n",
      "Australia                1236.93\n",
      "Taiwan                    944.03\n",
      "Brazil                    803.39\n",
      "India                     712.78\n",
      "Netherlands               627.10\n",
      "Austria                   539.85\n",
      "Sweden                    523.00\n",
      "Belgium                   467.66\n",
      "Switzerland               453.57\n",
      "Turkey                    443.34\n",
      "Finland                   409.04\n",
      "Poland                    399.07\n",
      "Ireland                   360.93\n",
      "Israel                    358.31\n",
      "Iran                      353.31\n",
      "Portugal                  314.68\n",
      "Greece                    313.07\n",
      "Hong Kong                 276.20\n",
      "New Zealand               269.55\n",
      "Hungary                   266.47\n",
      "Denmark                   240.27\n",
      "Russia                    234.21\n",
      "Norway                    232.62\n",
      "South Africa              230.49\n",
      "Czech Republic            223.40\n",
      "Chile                     178.69\n",
      "Saudi Arabia              177.17\n",
      "Egypt                     176.38\n",
      "Thailand                  134.76\n",
      "Malaysia                  134.12\n",
      "Argentina                 133.78\n",
      "Singapore                 102.73\n",
      "Mexico                     89.84\n",
      "Slovenia                   88.98\n",
      "Colombia                   88.49\n",
      "Romania                    88.08\n",
      "Iceland                    44.91\n",
      "Estonia                    44.68\n",
      "Croatia                    44.62\n",
      "Slovak Republic            44.38\n",
      "Lebanon                    44.38\n",
      "Serbia                     44.33\n",
      "Lithuania                  44.25\n",
      "Bulgaria                   44.19\n",
      "Uruguay                    44.16\n",
      "Uganda                     44.16\n",
      "Cyprus                     44.10\n",
      "United Arab Emirates       44.08\n",
      "Puerto Rico                44.06\n",
      "Name: score, dtype: float64\n"
     ]
    }
   ],
   "source": [
    "score_by_country = data_2015.groupby('country')['score'].sum().sort_values(ascending=False)\n",
    "\n",
    "print(score_by_country)"
   ]
  },
  {
   "cell_type": "markdown",
   "metadata": {},
   "source": [
    "e) Обчисліть кращий університет для кожної країни."
   ]
  },
  {
   "cell_type": "code",
   "execution_count": 23,
   "metadata": {},
   "outputs": [
    {
     "name": "stdout",
     "output_type": "stream",
     "text": [
      "                                          institution               country  \\\n",
      "1566                       University of Buenos Aires             Argentina   \n",
      "1287                             University of Sydney             Australia   \n",
      "1422                             University of Vienna               Austria   \n",
      "1281                   Katholieke Universiteit Leuven               Belgium   \n",
      "1331                          University of São Paulo                Brazil   \n",
      "2044                                 Sofia University              Bulgaria   \n",
      "1231                            University of Toronto                Canada   \n",
      "1575          Pontifical Catholic University of Chile                 Chile   \n",
      "1255                                Peking University                 China   \n",
      "1851               University of Los Andes (Colombia)              Colombia   \n",
      "1750                             University of Zagreb               Croatia   \n",
      "2127                             University of Cyprus                Cyprus   \n",
      "1469                     Charles University in Prague        Czech Republic   \n",
      "1273                         University of Copenhagen               Denmark   \n",
      "1995                                 Cairo University                 Egypt   \n",
      "1736                              University of Tartu               Estonia   \n",
      "1310                           University of Helsinki               Finland   \n",
      "1235                              École Polytechnique                France   \n",
      "1275           Ruprecht Karl University of Heidelberg               Germany   \n",
      "1500   National and Kapodistrian University of Athens                Greece   \n",
      "1369                          University of Hong Kong             Hong Kong   \n",
      "1657                         Eötvös Loránd University               Hungary   \n",
      "1660                            University of Iceland               Iceland   \n",
      "1540             Indian Institute of Technology Delhi                 India   \n",
      "1896                  Sharif University of Technology                  Iran   \n",
      "1384                          Trinity College, Dublin               Ireland   \n",
      "1222                   Hebrew University of Jerusalem                Israel   \n",
      "1311                      Sapienza University of Rome                 Italy   \n",
      "1212                              University of Tokyo                 Japan   \n",
      "1881                    American University of Beirut               Lebanon   \n",
      "1990                               Vilnius University             Lithuania   \n",
      "1681                  University of Science, Malaysia              Malaysia   \n",
      "1533         National Autonomous University of Mexico                Mexico   \n",
      "1284                     Erasmus University Rotterdam           Netherlands   \n",
      "1465                           University of Auckland           New Zealand   \n",
      "1298                               University of Oslo                Norway   \n",
      "1650                          Jagiellonian University                Poland   \n",
      "1456                             University of Lisbon              Portugal   \n",
      "2161            University of Puerto Rico at Mayagüez           Puerto Rico   \n",
      "2185                          University of Bucharest               Romania   \n",
      "1258                Lomonosov Moscow State University                Russia   \n",
      "1768                             King Saud University          Saudi Arabia   \n",
      "1925                           University of Belgrade                Serbia   \n",
      "1264                 National University of Singapore             Singapore   \n",
      "1884                Comenius University in Bratislava       Slovak Republic   \n",
      "1703                          University of Ljubljana              Slovenia   \n",
      "1348                  University of the Witwatersrand          South Africa   \n",
      "1223                        Seoul National University           South Korea   \n",
      "1315                          University of Barcelona                 Spain   \n",
      "1270                             Karolinska Institute                Sweden   \n",
      "1219  Swiss Federal Institute of Technology in Zurich           Switzerland   \n",
      "1256                       National Taiwan University                Taiwan   \n",
      "1510                         Chulalongkorn University              Thailand   \n",
      "1669                 Middle East Technical University                Turkey   \n",
      "1200                               Harvard University                   USA   \n",
      "2068                              Makerere University                Uganda   \n",
      "2149                  United Arab Emirates University  United Arab Emirates   \n",
      "1203                          University of Cambridge        United Kingdom   \n",
      "2066             University of the Republic (Uruguay)               Uruguay   \n",
      "\n",
      "       score  \n",
      "1566   45.37  \n",
      "1287   51.61  \n",
      "1422   47.03  \n",
      "1281   52.03  \n",
      "1331   49.31  \n",
      "2044   44.19  \n",
      "1231   60.04  \n",
      "1575   45.31  \n",
      "1255   54.26  \n",
      "1851   44.43  \n",
      "1750   44.62  \n",
      "2127   44.10  \n",
      "1469   46.32  \n",
      "1273   52.51  \n",
      "1995   44.25  \n",
      "1736   44.68  \n",
      "1310   50.04  \n",
      "1235   59.20  \n",
      "1275   52.32  \n",
      "1500   45.94  \n",
      "1369   48.15  \n",
      "1657   44.92  \n",
      "1660   44.91  \n",
      "1540   45.54  \n",
      "1896   44.37  \n",
      "1384   47.73  \n",
      "1222   65.71  \n",
      "1311   49.97  \n",
      "1212   78.23  \n",
      "1881   44.38  \n",
      "1990   44.25  \n",
      "1681   44.84  \n",
      "1533   45.58  \n",
      "1284   51.78  \n",
      "1465   46.38  \n",
      "1298   50.81  \n",
      "1650   44.94  \n",
      "1456   46.43  \n",
      "2161   44.06  \n",
      "2185   44.04  \n",
      "1258   54.19  \n",
      "1768   44.59  \n",
      "1925   44.33  \n",
      "1264   53.44  \n",
      "1884   44.38  \n",
      "1703   44.77  \n",
      "1348   48.75  \n",
      "1223   64.82  \n",
      "1315   49.79  \n",
      "1270   52.79  \n",
      "1219   66.93  \n",
      "1256   54.23  \n",
      "1510   45.86  \n",
      "1669   44.87  \n",
      "1200  100.00  \n",
      "2068   44.16  \n",
      "2149   44.08  \n",
      "1203   96.81  \n",
      "2066   44.16  \n"
     ]
    }
   ],
   "source": [
    "best_university_by_country = data_2015.loc[data_2015.groupby('country')['score'].idxmax()][['institution', 'country', 'score']]\n",
    "\n",
    "print(best_university_by_country)"
   ]
  },
  {
   "cell_type": "markdown",
   "metadata": {},
   "source": [
    "f) Чи є кореляція у двох останніх величин?"
   ]
  },
  {
   "cell_type": "code",
   "execution_count": 24,
   "metadata": {},
   "outputs": [
    {
     "name": "stdout",
     "output_type": "stream",
     "text": [
      "0.7869440076700025\n"
     ]
    }
   ],
   "source": [
    "correlation_score = data_2015.groupby('country')['score'].sum().corr(data_2015.groupby('country')['score'].max())\n",
    "\n",
    "print(correlation_score)"
   ]
  },
  {
   "cell_type": "markdown",
   "metadata": {},
   "source": [
    "g) Обчисліть п'ять університетів з найбільшим рейтингом."
   ]
  },
  {
   "cell_type": "code",
   "execution_count": 25,
   "metadata": {},
   "outputs": [
    {
     "name": "stdout",
     "output_type": "stream",
     "text": [
      "                                institution   score         country  \\\n",
      "1200                     Harvard University  100.00             USA   \n",
      "1201                    Stanford University   98.66             USA   \n",
      "1202  Massachusetts Institute of Technology   97.54             USA   \n",
      "1203                University of Cambridge   96.81  United Kingdom   \n",
      "1204                   University of Oxford   96.46  United Kingdom   \n",
      "\n",
      "      national_rank  \n",
      "1200              1  \n",
      "1201              2  \n",
      "1202              3  \n",
      "1203              1  \n",
      "1204              2  \n"
     ]
    }
   ],
   "source": [
    "top_5_universities = data_2015.nlargest(5, 'score')[['institution', 'score', 'country', 'national_rank']]\n",
    "\n",
    "print(top_5_universities)"
   ]
  },
  {
   "cell_type": "markdown",
   "metadata": {},
   "source": [
    "h) Випускники яких 5 університетів володіють найбільшим робочим рейтингом?"
   ]
  },
  {
   "cell_type": "code",
   "execution_count": 26,
   "metadata": {},
   "outputs": [
    {
     "name": "stdout",
     "output_type": "stream",
     "text": [
      "                                  institution  alumni_employment\n",
      "1220      University of California, San Diego                567\n",
      "1225  University of California, San Francisco                567\n",
      "1228                   Rockefeller University                567\n",
      "1238            Weizmann Institute of Science                567\n",
      "1270                     Karolinska Institute                567\n"
     ]
    }
   ],
   "source": [
    "top_5_employment = data_2015.nlargest(5, 'alumni_employment')[['institution', 'alumni_employment']]\n",
    "\n",
    "print(top_5_employment)"
   ]
  },
  {
   "cell_type": "markdown",
   "metadata": {},
   "source": [
    "i) Який із зазначених рейтингів дає найбільший внесок у загальний рейтинг?"
   ]
  },
  {
   "cell_type": "code",
   "execution_count": 28,
   "metadata": {},
   "outputs": [
    {
     "name": "stdout",
     "output_type": "stream",
     "text": [
      "patents\n"
     ]
    }
   ],
   "source": [
    "correlation_with_total = data_2015[['quality_of_education', 'alumni_employment', 'quality_of_faculty', 'publications', 'influence', 'citations', 'broad_impact', 'patents', 'score']].corr()['score'].drop('score')\n",
    "most_influential_factor = correlation_with_total.idxmax()\n",
    "\n",
    "print(most_influential_factor)"
   ]
  }
 ],
 "metadata": {
  "kernelspec": {
   "display_name": ".venv",
   "language": "python",
   "name": "python3"
  },
  "language_info": {
   "codemirror_mode": {
    "name": "ipython",
    "version": 3
   },
   "file_extension": ".py",
   "mimetype": "text/x-python",
   "name": "python",
   "nbconvert_exporter": "python",
   "pygments_lexer": "ipython3",
   "version": "3.12.3"
  }
 },
 "nbformat": 4,
 "nbformat_minor": 2
}
