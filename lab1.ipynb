{
 "cells": [
  {
   "cell_type": "markdown",
   "metadata": {},
   "source": [
    "# Компʼютерний практикум №1\n",
    "Виконав студент групи ЗК-41мп Гломозда Костянтин\n",
    "\n",
    "Завдання: Написати програму на Python, яка:"
   ]
  },
  {
   "cell_type": "markdown",
   "metadata": {},
   "source": [
    "## a) Сортує словник за значеннями\n",
    "Можна використати метод sorted() з параметром key для сортування словника за значеннями, але з використанням модуля operator.itemgetter."
   ]
  },
  {
   "cell_type": "code",
   "execution_count": 1,
   "metadata": {},
   "outputs": [
    {
     "data": {
      "text/plain": [
       "{0: 10, 1: 20}"
      ]
     },
     "execution_count": 1,
     "metadata": {},
     "output_type": "execute_result"
    }
   ],
   "source": [
    "dictionary = {0: 10, 1: 20}\n",
    "sorted_dict = dict(sorted(dictionary.items(), key=lambda item: item[1]))\n",
    "\n",
    "sorted_dict"
   ]
  },
  {
   "cell_type": "markdown",
   "metadata": {},
   "source": [
    "## b) Додає ключ до словника\n",
    "Можна використати метод update() для додавання нового ключа та значення до словника."
   ]
  },
  {
   "cell_type": "code",
   "execution_count": 2,
   "metadata": {},
   "outputs": [
    {
     "data": {
      "text/plain": [
       "{0: 10, 1: 20, 2: 30}"
      ]
     },
     "execution_count": 2,
     "metadata": {},
     "output_type": "execute_result"
    }
   ],
   "source": [
    "dictionary = {0: 10, 1: 20}\n",
    "dictionary[2] = 30\n",
    "\n",
    "dictionary"
   ]
  },
  {
   "cell_type": "markdown",
   "metadata": {},
   "source": [
    "## c) Поєднає наступні словники та створює новий\n",
    "Можна використати метод collections.ChainMap для об'єднання декількох словників."
   ]
  },
  {
   "cell_type": "code",
   "execution_count": 3,
   "metadata": {},
   "outputs": [
    {
     "data": {
      "text/plain": [
       "{1: 10, 2: 20, 3: 30, 4: 40, 5: 50, 6: 60}"
      ]
     },
     "execution_count": 3,
     "metadata": {},
     "output_type": "execute_result"
    }
   ],
   "source": [
    "dic1 = {1: 10, 2: 20}\n",
    "dic2 = {3: 30, 4: 40}\n",
    "dic3 = {5: 50, 6: 60}\n",
    "merged_dict = {**dic1, **dic2, **dic3}\n",
    "\n",
    "merged_dict"
   ]
  },
  {
   "cell_type": "markdown",
   "metadata": {},
   "source": [
    "## d) Перевіряє чи входить даний ключ до словника\n",
    "Можна використати метод get() для перевірки наявності ключа в словнику, який поверне None, якщо ключ не існує."
   ]
  },
  {
   "cell_type": "code",
   "execution_count": 4,
   "metadata": {},
   "outputs": [
    {
     "data": {
      "text/plain": [
       "True"
      ]
     },
     "execution_count": 4,
     "metadata": {},
     "output_type": "execute_result"
    }
   ],
   "source": [
    "dictionary = {0: 10, 1: 20, 2: 30}\n",
    "key_to_check = 1\n",
    "exists = key_to_check in dictionary\n",
    "\n",
    "exists"
   ]
  },
  {
   "cell_type": "markdown",
   "metadata": {},
   "source": [
    "## e) Ітерується по словнику використовуючи for loops.\n",
    "Можна використати метод items() разом з генератором списку для ітерації по словнику."
   ]
  },
  {
   "cell_type": "code",
   "execution_count": 5,
   "metadata": {},
   "outputs": [
    {
     "data": {
      "text/plain": [
       "[(0, 10), (1, 20), (2, 30)]"
      ]
     },
     "execution_count": 5,
     "metadata": {},
     "output_type": "execute_result"
    }
   ],
   "source": [
    "dictionary = {0: 10, 1: 20, 2: 30}\n",
    "result = []\n",
    "for key, value in dictionary.items():\n",
    "    result.append((key, value))\n",
    "    \n",
    "result"
   ]
  },
  {
   "cell_type": "markdown",
   "metadata": {},
   "source": [
    "## f) Генерує та виводить словник, який складається с чисел від 1 до n в формі (x, x*x).\n",
    "Можна використати функцію dict() разом з генератором виразів для створення словника чисел та їх квадратів."
   ]
  },
  {
   "cell_type": "code",
   "execution_count": 6,
   "metadata": {},
   "outputs": [
    {
     "data": {
      "text/plain": [
       "{1: 1, 2: 4, 3: 9, 4: 16, 5: 25}"
      ]
     },
     "execution_count": 6,
     "metadata": {},
     "output_type": "execute_result"
    }
   ],
   "source": [
    "n = 5\n",
    "dictionary = {x: x*x for x in range(1, n+1)}\n",
    "\n",
    "dictionary"
   ]
  },
  {
   "cell_type": "markdown",
   "metadata": {},
   "source": [
    "## g) Генерує словник у якому ключі це числа від 1 до 15, а значення квадрати ключів.\n",
    "Можна використати функцію dict.fromkeys() разом з циклом для створення словника, де ключі — числа від 1 до 15, а значення — їхні квадрати."
   ]
  },
  {
   "cell_type": "code",
   "execution_count": 7,
   "metadata": {},
   "outputs": [
    {
     "data": {
      "text/plain": [
       "{1: 1,\n",
       " 2: 4,\n",
       " 3: 9,\n",
       " 4: 16,\n",
       " 5: 25,\n",
       " 6: 36,\n",
       " 7: 49,\n",
       " 8: 64,\n",
       " 9: 81,\n",
       " 10: 100,\n",
       " 11: 121,\n",
       " 12: 144,\n",
       " 13: 169,\n",
       " 14: 196,\n",
       " 15: 225}"
      ]
     },
     "execution_count": 7,
     "metadata": {},
     "output_type": "execute_result"
    }
   ],
   "source": [
    "dictionary = {x: x*x for x in range(1, 16)}\n",
    "\n",
    "dictionary"
   ]
  },
  {
   "cell_type": "markdown",
   "metadata": {},
   "source": [
    "## h) Яка створює будь який set.\n",
    "Можна використати функцію set() для створення множини з будь-якого ітерованого об'єкта, наприклад, зі списку."
   ]
  },
  {
   "cell_type": "code",
   "execution_count": 8,
   "metadata": {},
   "outputs": [
    {
     "data": {
      "text/plain": [
       "{1, 2, 3, 4, 5}"
      ]
     },
     "execution_count": 8,
     "metadata": {},
     "output_type": "execute_result"
    }
   ],
   "source": [
    "my_set = {1, 2, 3, 4, 5}\n",
    "\n",
    "my_set"
   ]
  },
  {
   "cell_type": "markdown",
   "metadata": {},
   "source": [
    "## i) Яка ітерується крізь sets.\n",
    "Можна використати метод iter() для створення ітератора по множині та функцію next() для проходження по елементах."
   ]
  },
  {
   "cell_type": "code",
   "execution_count": 9,
   "metadata": {},
   "outputs": [
    {
     "data": {
      "text/plain": [
       "[1, 2, 3, 4, 5]"
      ]
     },
     "execution_count": 9,
     "metadata": {},
     "output_type": "execute_result"
    }
   ],
   "source": [
    "my_set = {1, 2, 3, 4, 5}\n",
    "results = [x for x in my_set]\n",
    "\n",
    "results"
   ]
  },
  {
   "cell_type": "markdown",
   "metadata": {},
   "source": [
    "## j) Додає значення до set.\n",
    "Можна використати метод update() для додавання одного або декількох елементів до множини."
   ]
  },
  {
   "cell_type": "code",
   "execution_count": 10,
   "metadata": {},
   "outputs": [
    {
     "data": {
      "text/plain": [
       "{1, 2, 3, 4, 5, 6}"
      ]
     },
     "execution_count": 10,
     "metadata": {},
     "output_type": "execute_result"
    }
   ],
   "source": [
    "my_set = {1, 2, 3, 4, 5}\n",
    "my_set.add(6)\n",
    "\n",
    "my_set"
   ]
  },
  {
   "cell_type": "markdown",
   "metadata": {},
   "source": [
    "## k) Видаляє елемент з set.\n",
    "Можна використати метод pop(), щоб видалити випадковий елемент з множини."
   ]
  },
  {
   "cell_type": "code",
   "execution_count": 11,
   "metadata": {},
   "outputs": [
    {
     "data": {
      "text/plain": [
       "{1, 2, 4, 5}"
      ]
     },
     "execution_count": 11,
     "metadata": {},
     "output_type": "execute_result"
    }
   ],
   "source": [
    "my_set = {1, 2, 3, 4, 5}\n",
    "my_set.remove(3)\n",
    "\n",
    "my_set"
   ]
  },
  {
   "cell_type": "markdown",
   "metadata": {},
   "source": [
    "## l) Видаляє елемент якщо він є в set.\n",
    "Можна використати оператор if разом з методом remove(), щоб видалити елемент, якщо він існує в множині."
   ]
  },
  {
   "cell_type": "code",
   "execution_count": 12,
   "metadata": {},
   "outputs": [
    {
     "data": {
      "text/plain": [
       "{1, 4, 5}"
      ]
     },
     "execution_count": 12,
     "metadata": {},
     "output_type": "execute_result"
    }
   ],
   "source": [
    "my_set = {1, 2, 4, 5}\n",
    "my_set.discard(2)\n",
    "\n",
    "my_set"
   ]
  },
  {
   "cell_type": "markdown",
   "metadata": {},
   "source": [
    "## m) Створює об’єднання sets (intersection).\n",
    "Можна використати оператор & (логічне \"і\") для отримання перетину двох множин."
   ]
  },
  {
   "cell_type": "code",
   "execution_count": 13,
   "metadata": {},
   "outputs": [
    {
     "data": {
      "text/plain": [
       "{3}"
      ]
     },
     "execution_count": 13,
     "metadata": {},
     "output_type": "execute_result"
    }
   ],
   "source": [
    "set1 = {1, 2, 3}\n",
    "set2 = {3, 4, 5}\n",
    "intersection = set1.intersection(set2)\n",
    "\n",
    "intersection"
   ]
  },
  {
   "cell_type": "markdown",
   "metadata": {},
   "source": [
    "## n) Яка знаходить суму всіх елементів списку.\n",
    "Можна використати функцію numpy.sum() з бібліотеки NumPy для підрахунку суми всіх елементів списку."
   ]
  },
  {
   "cell_type": "code",
   "execution_count": 14,
   "metadata": {},
   "outputs": [
    {
     "data": {
      "text/plain": [
       "15"
      ]
     },
     "execution_count": 14,
     "metadata": {},
     "output_type": "execute_result"
    }
   ],
   "source": [
    "my_list = [1, 2, 3, 4, 5]\n",
    "total_sum = sum(my_list)\n",
    "\n",
    "total_sum"
   ]
  },
  {
   "cell_type": "markdown",
   "metadata": {},
   "source": [
    "## o) Яка помножує всі елементи списку.\n",
    "Можна використати функцію numpy.prod() з бібліотеки NumPy для обчислення добутку всіх елементів списку."
   ]
  },
  {
   "cell_type": "code",
   "execution_count": 24,
   "metadata": {},
   "outputs": [
    {
     "data": {
      "text/plain": [
       "-336"
      ]
     },
     "execution_count": 24,
     "metadata": {},
     "output_type": "execute_result"
    }
   ],
   "source": [
    "my_list = [8, 2, 3, -1, 7]\n",
    "product = 1\n",
    "for i in my_list:\n",
    "    product *= i\n",
    "\n",
    "product"
   ]
  },
  {
   "cell_type": "markdown",
   "metadata": {},
   "source": [
    "## p) Яка виводить найбільше та найменше значення у списку.\n",
    "Можна використати функції max() та min() без змін, але в поєднанні з бібліотекою Pandas, якщо дані представлені у вигляді серії або фрейму даних."
   ]
  },
  {
   "cell_type": "code",
   "execution_count": 16,
   "metadata": {},
   "outputs": [
    {
     "data": {
      "text/plain": [
       "(8, -1)"
      ]
     },
     "execution_count": 16,
     "metadata": {},
     "output_type": "execute_result"
    }
   ],
   "source": [
    "my_list = [8, 2, 3, -1, 7]\n",
    "max_value = max(my_list)\n",
    "min_value = min(my_list)\n",
    "\n",
    "(max_value, min_value)"
   ]
  },
  {
   "cell_type": "markdown",
   "metadata": {},
   "source": [
    "## q) яка отримує список відсортований у порядку зростання за останнім елементом у кожному кортежі із заданого списку не порожніх кортежів.\n",
    "Можна використати функцію sorted() з параметром key і модулем operator.itemgetter для сортування списку кортежів за останнім елементом кожного кортежу."
   ]
  },
  {
   "cell_type": "code",
   "execution_count": 17,
   "metadata": {},
   "outputs": [
    {
     "data": {
      "text/plain": [
       "[(2, 1), (1, 2), (2, 3), (4, 4), (2, 5)]"
      ]
     },
     "execution_count": 17,
     "metadata": {},
     "output_type": "execute_result"
    }
   ],
   "source": [
    "my_tuples = [(2, 5), (1, 2), (4, 4), (2, 3), (2, 1)]\n",
    "sorted_tuples = sorted(my_tuples, key=lambda x: x[-1])\n",
    "\n",
    "sorted_tuples"
   ]
  },
  {
   "cell_type": "markdown",
   "metadata": {},
   "source": [
    "## r) Яка видаляє елементи які повторюються.\n",
    "Можна використати методи бібліотеки Pandas, такі як .drop_duplicates(), для видалення дублікатів у серії або фреймі даних."
   ]
  },
  {
   "cell_type": "code",
   "execution_count": 18,
   "metadata": {},
   "outputs": [
    {
     "data": {
      "text/plain": [
       "[1, 2, 3, 4]"
      ]
     },
     "execution_count": 18,
     "metadata": {},
     "output_type": "execute_result"
    }
   ],
   "source": [
    "my_list = [1, 2, 3, 2, 3, 4]\n",
    "unique_elements = list(set(my_list))\n",
    "\n",
    "unique_elements"
   ]
  },
  {
   "cell_type": "markdown",
   "metadata": {},
   "source": [
    "## s) Яка друкує лист після видалення 0го, 4го та 5го елементів.\n",
    "Можна використати методи списків, такі як зрізи (slicing), щоб видалити конкретні індекси зі списку."
   ]
  },
  {
   "cell_type": "code",
   "execution_count": 19,
   "metadata": {},
   "outputs": [
    {
     "data": {
      "text/plain": [
       "['Green', 'White', 'Black']"
      ]
     },
     "execution_count": 19,
     "metadata": {},
     "output_type": "execute_result"
    }
   ],
   "source": [
    "my_list = ['Red', 'Green', 'White', 'Black', 'Pink', 'Yellow']\n",
    "new_list = [my_list[i] for i in range(len(my_list)) if i not in (0, 4, 5)]\n",
    "\n",
    "new_list"
   ]
  },
  {
   "cell_type": "markdown",
   "metadata": {},
   "source": [
    "## t) Яка помножує всі значення в списку.\n",
    "Можна використати модуль NumPy і його методи для обчислення добутку всіх елементів масиву або списку."
   ]
  },
  {
   "cell_type": "code",
   "execution_count": 23,
   "metadata": {},
   "outputs": [
    {
     "data": {
      "text/plain": [
       "-336"
      ]
     },
     "execution_count": 23,
     "metadata": {},
     "output_type": "execute_result"
    }
   ],
   "source": [
    "my_list = [8, 2, 3, -1, 7]\n",
    "\n",
    "product = 1\n",
    "for i in my_list:\n",
    "    product *= i\n",
    "\n",
    "product"
   ]
  },
  {
   "cell_type": "markdown",
   "metadata": {},
   "source": [
    "## u) Розраховує факторіал числа.\n",
    "Можна використати функцію lambda для обчислення факторіалу числа."
   ]
  },
  {
   "cell_type": "code",
   "execution_count": 22,
   "metadata": {},
   "outputs": [
    {
     "data": {
      "text/plain": [
       "120"
      ]
     },
     "execution_count": 22,
     "metadata": {},
     "output_type": "execute_result"
    }
   ],
   "source": [
    "from math import factorial\n",
    "\n",
    "factorial(5)"
   ]
  },
  {
   "cell_type": "markdown",
   "metadata": {},
   "source": [
    "## v) Приймає строку та підраховує кількість великих та маленьких букв.\n",
    "Можна використати регулярні вирази (модуль re) для підрахунку кількості великих та маленьких букв у рядку."
   ]
  },
  {
   "cell_type": "code",
   "execution_count": 25,
   "metadata": {},
   "outputs": [
    {
     "data": {
      "text/plain": [
       "(3, 12)"
      ]
     },
     "execution_count": 25,
     "metadata": {},
     "output_type": "execute_result"
    }
   ],
   "source": [
    "def count_case(s):\n",
    "    upper_case_count = sum(1 for c in s if c.isupper())\n",
    "    lower_case_count = sum(1 for c in s if c.islower())\n",
    "    return upper_case_count, lower_case_count\n",
    "\n",
    "count_case('The quick Brow Fox')"
   ]
  },
  {
   "cell_type": "markdown",
   "metadata": {},
   "source": [
    "## w) Друкує наступний патерн використовуючи цикли.\n",
    "Можна використати вкладені цикли разом із функцією друку (print) безпосередньо в циклі для створення заданого патерну."
   ]
  },
  {
   "cell_type": "code",
   "execution_count": 27,
   "metadata": {},
   "outputs": [
    {
     "name": "stdout",
     "output_type": "stream",
     "text": [
      "\n",
      "*\n",
      "* *\n",
      "* * *\n",
      "* * * *\n",
      "* * *\n",
      "* *\n",
      "*\n",
      "\n"
     ]
    }
   ],
   "source": [
    "pattern_result=[]\n",
    "for i in range(5):\n",
    "    pattern_result.append('* ' * i)\n",
    "\n",
    "for i in range(3,-1,-1):\n",
    "    pattern_result.append('* ' * i)\n",
    "\n",
    "pattern_result=[x.strip() for x in pattern_result]\n",
    "\n",
    "print(*pattern_result, sep='\\n')"
   ]
  }
 ],
 "metadata": {
  "kernelspec": {
   "display_name": ".venv",
   "language": "python",
   "name": "python3"
  },
  "language_info": {
   "codemirror_mode": {
    "name": "ipython",
    "version": 3
   },
   "file_extension": ".py",
   "mimetype": "text/x-python",
   "name": "python",
   "nbconvert_exporter": "python",
   "pygments_lexer": "ipython3",
   "version": "3.12.3"
  }
 },
 "nbformat": 4,
 "nbformat_minor": 2
}
