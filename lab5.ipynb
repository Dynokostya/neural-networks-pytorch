{
 "cells": [
  {
   "cell_type": "markdown",
   "metadata": {},
   "source": [
    "# Компʼютерний практикум №5\n",
    "Виконав студент групи ЗК-41мп Гломозда Костянтин\n",
    "\n",
    "ГРАДІЄНТНИЙ СПУСК"
   ]
  },
  {
   "cell_type": "markdown",
   "metadata": {},
   "source": [
    "Завдання: 1. Натренуйте модель лінійної регресії надану в теоретичному описі\n",
    "(для аналізу врожайністі яблук та апельсинів) деяку кількість епох.\n",
    "Подивіться як змінюються ваги та похибка (втрати). Знайдіть оптимальну\n",
    "кількість епох для тренування. Порахуйте MSE та зробіть висновки щодо\n",
    "оптимальної кількості епох та отриманих результатів."
   ]
  },
  {
   "cell_type": "markdown",
   "metadata": {},
   "source": [
    "Ініціалізація відеокарти"
   ]
  },
  {
   "cell_type": "code",
   "execution_count": 2,
   "metadata": {},
   "outputs": [
    {
     "data": {
      "text/plain": [
       "device(type='cuda')"
      ]
     },
     "execution_count": 2,
     "metadata": {},
     "output_type": "execute_result"
    }
   ],
   "source": [
    "import torch\n",
    "\n",
    "\n",
    "device = torch.device(\"cuda\" if torch.cuda.is_available() else \"cpu\")\n",
    "device"
   ]
  },
  {
   "cell_type": "markdown",
   "metadata": {},
   "source": [
    "1) Ініціалізація вхідних та цільових даних"
   ]
  },
  {
   "cell_type": "code",
   "execution_count": 7,
   "metadata": {},
   "outputs": [],
   "source": [
    "import numpy as np\n",
    "\n",
    "\n",
    "inputs = np.array([[73, 67, 43],\n",
    "                   [91, 88, 64],\n",
    "                   [87, 134, 58],\n",
    "                   [102, 43, 37],\n",
    "                   [69, 96, 70]], dtype='float32')\n",
    "\n",
    "targets = np.array([[56, 70],\n",
    "                    [81, 101],\n",
    "                    [119, 133],\n",
    "                    [22, 37],\n",
    "                    [103, 119]], dtype='float32')\n",
    "\n",
    "inputs = torch.from_numpy(inputs).to(device)\n",
    "targets = torch.from_numpy(targets).to(device)"
   ]
  },
  {
   "cell_type": "markdown",
   "metadata": {},
   "source": [
    "2) Ініціалізація моделі та ваг"
   ]
  },
  {
   "cell_type": "code",
   "execution_count": 8,
   "metadata": {},
   "outputs": [],
   "source": [
    "w = torch.randn(2, 3, requires_grad=True, device=device)\n",
    "b = torch.randn(2, requires_grad=True, device=device)\n",
    "\n",
    "def model(x):\n",
    "    return x @ w.t() + b\n",
    "\n",
    "def mse(t1, t2):\n",
    "    diff = t1 - t2\n",
    "    return torch.sum(diff * diff) / diff.numel()"
   ]
  },
  {
   "cell_type": "markdown",
   "metadata": {},
   "source": [
    "3) Навчання моделі лінійної регресії протягом кількох епох"
   ]
  },
  {
   "cell_type": "code",
   "execution_count": 10,
   "metadata": {},
   "outputs": [
    {
     "name": "stdout",
     "output_type": "stream",
     "text": [
      "tensor([[ 0.6179, -0.8250,  1.4747],\n",
      "        [ 0.1417,  0.9178,  0.0532]], device='cuda:0', requires_grad=True)\n",
      "tensor([ 1.1883, -0.5953], device='cuda:0', requires_grad=True)\n",
      "tensor([[ 0.6263, -0.7991,  1.4858],\n",
      "        [ 0.1399,  0.9188,  0.0540]], device='cuda:0', requires_grad=True)\n",
      "tensor([ 1.1884, -0.5953], device='cuda:0', requires_grad=True)\n",
      "tensor([[ 0.6317, -0.7765,  1.4949],\n",
      "        [ 0.1382,  0.9197,  0.0549]], device='cuda:0', requires_grad=True)\n",
      "tensor([ 1.1885, -0.5953], device='cuda:0', requires_grad=True)\n",
      "tensor([[ 0.6348, -0.7566,  1.5023],\n",
      "        [ 0.1364,  0.9206,  0.0558]], device='cuda:0', requires_grad=True)\n",
      "tensor([ 1.1886, -0.5953], device='cuda:0', requires_grad=True)\n",
      "tensor([[ 0.6358, -0.7389,  1.5084],\n",
      "        [ 0.1347,  0.9215,  0.0567]], device='cuda:0', requires_grad=True)\n",
      "tensor([ 1.1887, -0.5953], device='cuda:0', requires_grad=True)\n",
      "tensor([[ 0.6353, -0.7231,  1.5134],\n",
      "        [ 0.1330,  0.9225,  0.0576]], device='cuda:0', requires_grad=True)\n",
      "tensor([ 1.1887, -0.5953], device='cuda:0', requires_grad=True)\n",
      "tensor([[ 0.6334, -0.7088,  1.5175],\n",
      "        [ 0.1313,  0.9234,  0.0585]], device='cuda:0', requires_grad=True)\n",
      "tensor([ 1.1887, -0.5953], device='cuda:0', requires_grad=True)\n",
      "tensor([[ 0.6305, -0.6957,  1.5208],\n",
      "        [ 0.1297,  0.9243,  0.0594]], device='cuda:0', requires_grad=True)\n",
      "tensor([ 1.1887, -0.5953], device='cuda:0', requires_grad=True)\n",
      "tensor([[ 0.6267, -0.6837,  1.5235],\n",
      "        [ 0.1280,  0.9253,  0.0604]], device='cuda:0', requires_grad=True)\n",
      "tensor([ 1.1887, -0.5954], device='cuda:0', requires_grad=True)\n",
      "tensor([[ 0.6222, -0.6725,  1.5257],\n",
      "        [ 0.1264,  0.9262,  0.0613]], device='cuda:0', requires_grad=True)\n",
      "tensor([ 1.1887, -0.5954], device='cuda:0', requires_grad=True)\n"
     ]
    }
   ],
   "source": [
    "learning_rate = 1e-5\n",
    "epochs = 10\n",
    "\n",
    "for epoch in range(epochs):\n",
    "    preds = model(inputs)\n",
    "    loss = mse(preds, targets)\n",
    "    loss.backward()\n",
    "\n",
    "    with torch.no_grad():\n",
    "        w -= w.grad * learning_rate\n",
    "        b -= b.grad * learning_rate\n",
    "        print(w)\n",
    "        print(b)\n",
    "        w.grad.zero_()\n",
    "        b.grad.zero_()"
   ]
  },
  {
   "cell_type": "markdown",
   "metadata": {},
   "source": [
    "4) Оцінка похибки (MSE) після тренування моделі з використанням CUDA"
   ]
  },
  {
   "cell_type": "code",
   "execution_count": 13,
   "metadata": {},
   "outputs": [
    {
     "data": {
      "text/plain": [
       "tensor(1049.8235, device='cuda:0', grad_fn=<DivBackward0>)"
      ]
     },
     "execution_count": 13,
     "metadata": {},
     "output_type": "execute_result"
    }
   ],
   "source": [
    "preds = model(inputs)\n",
    "final_loss = mse(preds, targets)\n",
    "\n",
    "final_loss"
   ]
  }
 ],
 "metadata": {
  "kernelspec": {
   "display_name": ".venv",
   "language": "python",
   "name": "python3"
  },
  "language_info": {
   "codemirror_mode": {
    "name": "ipython",
    "version": 3
   },
   "file_extension": ".py",
   "mimetype": "text/x-python",
   "name": "python",
   "nbconvert_exporter": "python",
   "pygments_lexer": "ipython3",
   "version": "3.12.3"
  }
 },
 "nbformat": 4,
 "nbformat_minor": 2
}
