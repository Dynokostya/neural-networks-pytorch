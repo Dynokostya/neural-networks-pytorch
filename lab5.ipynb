{
 "cells": [
  {
   "cell_type": "markdown",
   "metadata": {},
   "source": [
    "# Компʼютерний практикум №5\n",
    "Виконав студент групи ЗК-41мп Гломозда Костянтин\n",
    "\n",
    "ГРАДІЄНТНИЙ СПУСК"
   ]
  },
  {
   "cell_type": "markdown",
   "metadata": {},
   "source": [
    "Завдання: 1. Натренуйте модель лінійної регресії надану в теоретичному описі\n",
    "(для аналізу врожайністі яблук та апельсинів) деяку кількість епох.\n",
    "Подивіться як змінюються ваги та похибка (втрати). Знайдіть оптимальну\n",
    "кількість епох для тренування. Порахуйте MSE та зробіть висновки щодо\n",
    "оптимальної кількості епох та отриманих результатів."
   ]
  },
  {
   "cell_type": "markdown",
   "metadata": {},
   "source": [
    "Ініціалізація відеокарти"
   ]
  },
  {
   "cell_type": "code",
   "execution_count": 2,
   "metadata": {},
   "outputs": [
    {
     "data": {
      "text/plain": [
       "device(type='cuda')"
      ]
     },
     "execution_count": 2,
     "metadata": {},
     "output_type": "execute_result"
    }
   ],
   "source": [
    "import torch\n",
    "\n",
    "\n",
    "device = torch.device(\"cuda\" if torch.cuda.is_available() else \"cpu\")\n",
    "device"
   ]
  },
  {
   "cell_type": "markdown",
   "metadata": {},
   "source": [
    "1) Ініціалізація вхідних та цільових даних"
   ]
  },
  {
   "cell_type": "code",
   "execution_count": 45,
   "metadata": {},
   "outputs": [],
   "source": [
    "import numpy as np\n",
    "\n",
    "\n",
    "inputs = np.array([[73, 67, 43],\n",
    "                   [91, 88, 64],\n",
    "                   [87, 134, 58],\n",
    "                   [102, 43, 37],\n",
    "                   [69, 96, 70]], dtype='float32')\n",
    "\n",
    "targets = np.array([[56, 70],\n",
    "                    [81, 101],\n",
    "                    [119, 133],\n",
    "                    [22, 37],\n",
    "                    [103, 119]], dtype='float32')\n",
    "\n",
    "inputs = torch.from_numpy(inputs).to(device)\n",
    "targets = torch.from_numpy(targets).to(device)"
   ]
  },
  {
   "cell_type": "markdown",
   "metadata": {},
   "source": [
    "2) Ініціалізація моделі та ваг"
   ]
  },
  {
   "cell_type": "code",
   "execution_count": 32,
   "metadata": {},
   "outputs": [],
   "source": [
    "w = torch.randn(2, 3, requires_grad=True, device=device)\n",
    "b = torch.randn(2, requires_grad=True, device=device)\n",
    "\n",
    "def model(x):\n",
    "    return x @ w.t() + b\n",
    "\n",
    "def mse(t1, t2):\n",
    "    diff = t1 - t2\n",
    "    return torch.sum(diff * diff) / diff.numel()"
   ]
  },
  {
   "cell_type": "markdown",
   "metadata": {},
   "source": [
    "3) Навчання моделі лінійної регресії протягом кількох епох\n",
    "\n",
    "Можемо помітити, що після 500-1000 епох розрив між попереднім значенням помилки стає менше.\n",
    "\n",
    "Отже, для оптимального навчання варто використати 500-1000 епох.\n",
    "\n",
    "Більша кількість епох може зменшити значення loss до 0, але такий підхід може призвести до перенавчання моделі"
   ]
  },
  {
   "cell_type": "code",
   "execution_count": 46,
   "metadata": {},
   "outputs": [
    {
     "name": "stdout",
     "output_type": "stream",
     "text": [
      "Epoch 1/1000:\n",
      "Weights: tensor([[-0.4373,  0.7950,  0.8175],\n",
      "        [-0.1673,  1.0033,  0.3792]], device='cuda:0', requires_grad=True)\n",
      "Loss: 17.772733688354492\n",
      "Epoch 101/1000:\n",
      "Weights: tensor([[-0.4345,  0.7998,  0.8055],\n",
      "        [-0.1797,  0.9853,  0.4270]], device='cuda:0', requires_grad=True)\n",
      "Loss: 14.8311185836792\n",
      "Epoch 201/1000:\n",
      "Weights: tensor([[-0.4320,  0.8042,  0.7946],\n",
      "        [-0.1907,  0.9687,  0.4705]], device='cuda:0', requires_grad=True)\n",
      "Loss: 12.391704559326172\n",
      "Epoch 301/1000:\n",
      "Weights: tensor([[-0.4296,  0.8081,  0.7847],\n",
      "        [-0.2005,  0.9533,  0.5101]], device='cuda:0', requires_grad=True)\n",
      "Loss: 10.368185043334961\n",
      "Epoch 401/1000:\n",
      "Weights: tensor([[-0.4274,  0.8117,  0.7756],\n",
      "        [-0.2092,  0.9393,  0.5462]], device='cuda:0', requires_grad=True)\n",
      "Loss: 8.689538955688477\n",
      "Epoch 501/1000:\n",
      "Weights: tensor([[-0.4255,  0.8149,  0.7674],\n",
      "        [-0.2172,  0.9264,  0.5790]], device='cuda:0', requires_grad=True)\n",
      "Loss: 7.296885967254639\n",
      "Epoch 601/1000:\n",
      "Weights: tensor([[-0.4237,  0.8179,  0.7599],\n",
      "        [-0.2244,  0.9146,  0.6089]], device='cuda:0', requires_grad=True)\n",
      "Loss: 6.141503810882568\n",
      "Epoch 701/1000:\n",
      "Weights: tensor([[-0.4221,  0.8206,  0.7530],\n",
      "        [-0.2309,  0.9039,  0.6361]], device='cuda:0', requires_grad=True)\n",
      "Loss: 5.1830034255981445\n",
      "Epoch 801/1000:\n",
      "Weights: tensor([[-0.4206,  0.8231,  0.7468],\n",
      "        [-0.2369,  0.8942,  0.6610]], device='cuda:0', requires_grad=True)\n",
      "Loss: 4.38779878616333\n",
      "Epoch 901/1000:\n",
      "Weights: tensor([[-0.4192,  0.8253,  0.7411],\n",
      "        [-0.2423,  0.8853,  0.6836]], device='cuda:0', requires_grad=True)\n",
      "Loss: 3.728057622909546\n"
     ]
    }
   ],
   "source": [
    "learning_rate = 1e-5\n",
    "epochs = 1000\n",
    "\n",
    "for epoch in range(epochs):\n",
    "    preds = model(inputs)\n",
    "    loss = mse(preds, targets)\n",
    "    loss.backward()\n",
    "\n",
    "    with torch.no_grad():\n",
    "        w -= w.grad * learning_rate\n",
    "        b -= b.grad * learning_rate\n",
    "        w.grad.zero_()\n",
    "        b.grad.zero_()\n",
    "        \n",
    "    if epoch % (epochs / 10) == 0:\n",
    "        print(f'Epoch {epoch+1}/{epochs}:')\n",
    "        print(f'Weights: {w}')\n",
    "        print(f'Loss: {loss.item()}')"
   ]
  },
  {
   "cell_type": "markdown",
   "metadata": {},
   "source": [
    "4) Оцінка похибки (MSE) після тренування моделі"
   ]
  },
  {
   "cell_type": "code",
   "execution_count": 47,
   "metadata": {},
   "outputs": [
    {
     "data": {
      "text/plain": [
       "tensor(3.1807, device='cuda:0', grad_fn=<DivBackward0>)"
      ]
     },
     "execution_count": 47,
     "metadata": {},
     "output_type": "execute_result"
    }
   ],
   "source": [
    "preds = model(inputs)\n",
    "final_loss = mse(preds, targets)\n",
    "\n",
    "final_loss"
   ]
  }
 ],
 "metadata": {
  "kernelspec": {
   "display_name": ".venv",
   "language": "python",
   "name": "python3"
  },
  "language_info": {
   "codemirror_mode": {
    "name": "ipython",
    "version": 3
   },
   "file_extension": ".py",
   "mimetype": "text/x-python",
   "name": "python",
   "nbconvert_exporter": "python",
   "pygments_lexer": "ipython3",
   "version": "3.12.3"
  }
 },
 "nbformat": 4,
 "nbformat_minor": 2
}
