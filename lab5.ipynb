{
 "cells": [
  {
   "cell_type": "markdown",
   "metadata": {},
   "source": [
    "# Компʼютерний практикум №5\n",
    "Виконав студент групи ЗК-41мп Гломозда Костянтин\n",
    "\n",
    "ГРАДІЄНТНИЙ СПУСК"
   ]
  },
  {
   "cell_type": "markdown",
   "metadata": {},
   "source": [
    "Завдання: 1. Натренуйте модель лінійної регресії надану в теоретичному описі\n",
    "(для аналізу врожайністі яблук та апельсинів) деяку кількість епох.\n",
    "Подивіться як змінюються ваги та похибка (втрати). Знайдіть оптимальну\n",
    "кількість епох для тренування. Порахуйте MSE та зробіть висновки щодо\n",
    "оптимальної кількості епох та отриманих результатів."
   ]
  },
  {
   "cell_type": "markdown",
   "metadata": {},
   "source": [
    "Ініціалізація відеокарти"
   ]
  },
  {
   "cell_type": "code",
   "execution_count": 2,
   "metadata": {},
   "outputs": [
    {
     "data": {
      "text/plain": [
       "device(type='cuda')"
      ]
     },
     "execution_count": 2,
     "metadata": {},
     "output_type": "execute_result"
    }
   ],
   "source": [
    "import torch\n",
    "\n",
    "\n",
    "device = torch.device(\"cuda\" if torch.cuda.is_available() else \"cpu\")\n",
    "device"
   ]
  },
  {
   "cell_type": "markdown",
   "metadata": {},
   "source": [
    "1) Ініціалізація вхідних та цільових даних"
   ]
  },
  {
   "cell_type": "code",
   "execution_count": 45,
   "metadata": {},
   "outputs": [],
   "source": [
    "import numpy as np\n",
    "\n",
    "\n",
    "inputs = np.array([[73, 67, 43],\n",
    "                   [91, 88, 64],\n",
    "                   [87, 134, 58],\n",
    "                   [102, 43, 37],\n",
    "                   [69, 96, 70]], dtype='float32')\n",
    "\n",
    "targets = np.array([[56, 70],\n",
    "                    [81, 101],\n",
    "                    [119, 133],\n",
    "                    [22, 37],\n",
    "                    [103, 119]], dtype='float32')\n",
    "\n",
    "inputs = torch.from_numpy(inputs).to(device)\n",
    "targets = torch.from_numpy(targets).to(device)"
   ]
  },
  {
   "cell_type": "markdown",
   "metadata": {},
   "source": [
    "2) Ініціалізація моделі та ваг"
   ]
  },
  {
   "cell_type": "code",
   "execution_count": 48,
   "metadata": {},
   "outputs": [],
   "source": [
    "w = torch.randn(2, 3, requires_grad=True, device=device)\n",
    "b = torch.randn(2, requires_grad=True, device=device)\n",
    "\n",
    "def model(x):\n",
    "    return x @ w.t() + b\n",
    "\n",
    "def mse(t1, t2):\n",
    "    diff = t1 - t2\n",
    "    return torch.sum(diff * diff) / diff.numel()"
   ]
  },
  {
   "cell_type": "markdown",
   "metadata": {},
   "source": [
    "3) Навчання моделі лінійної регресії протягом кількох епох\n",
    "\n",
    "Можемо помітити, що після 500-1000 епох розрив між попереднім значенням помилки стає менше.\n",
    "\n",
    "Отже, для оптимального навчання варто використати 500-1000 епох.\n",
    "\n",
    "Більша кількість епох може зменшити значення loss до 0, але такий підхід може призвести до перенавчання моделі"
   ]
  },
  {
   "cell_type": "code",
   "execution_count": 49,
   "metadata": {},
   "outputs": [
    {
     "name": "stdout",
     "output_type": "stream",
     "text": [
      "Epoch 1/1000:\n",
      "Weights: tensor([[ 0.9915,  0.1285,  3.2137],\n",
      "        [-0.5589,  0.1652,  0.2489]], device='cuda:0', requires_grad=True)\n",
      "Loss: 37906.5390625\n",
      "Epoch 101/1000:\n",
      "Weights: tensor([[-0.3231, -0.3456,  2.4907],\n",
      "        [-0.1217,  0.8103,  0.6400]], device='cuda:0', requires_grad=True)\n",
      "Loss: 366.2247009277344\n",
      "Epoch 201/1000:\n",
      "Weights: tensor([[-0.5324, -0.0640,  2.3502],\n",
      "        [-0.1764,  0.8433,  0.6690]], device='cuda:0', requires_grad=True)\n",
      "Loss: 213.4342041015625\n",
      "Epoch 301/1000:\n",
      "Weights: tensor([[-0.6281,  0.1101,  2.2124],\n",
      "        [-0.2075,  0.8571,  0.6936]], device='cuda:0', requires_grad=True)\n",
      "Loss: 151.76731872558594\n",
      "Epoch 401/1000:\n",
      "Weights: tensor([[-0.6650,  0.2251,  2.0818],\n",
      "        [-0.2260,  0.8611,  0.7150]], device='cuda:0', requires_grad=True)\n",
      "Loss: 118.8722152709961\n",
      "Epoch 501/1000:\n",
      "Weights: tensor([[-0.6719,  0.3067,  1.9600],\n",
      "        [-0.2377,  0.8602,  0.7339]], device='cuda:0', requires_grad=True)\n",
      "Loss: 96.70696258544922\n",
      "Epoch 601/1000:\n",
      "Weights: tensor([[-0.6642,  0.3688,  1.8477],\n",
      "        [-0.2455,  0.8571,  0.7509]], device='cuda:0', requires_grad=True)\n",
      "Loss: 79.75640106201172\n",
      "Epoch 701/1000:\n",
      "Weights: tensor([[-0.6496,  0.4188,  1.7447],\n",
      "        [-0.2511,  0.8529,  0.7662]], device='cuda:0', requires_grad=True)\n",
      "Loss: 66.09732818603516\n",
      "Epoch 801/1000:\n",
      "Weights: tensor([[-0.6324,  0.4610,  1.6504],\n",
      "        [-0.2555,  0.8484,  0.7800]], device='cuda:0', requires_grad=True)\n",
      "Loss: 54.878700256347656\n",
      "Epoch 901/1000:\n",
      "Weights: tensor([[-0.6146,  0.4975,  1.5643],\n",
      "        [-0.2591,  0.8440,  0.7926]], device='cuda:0', requires_grad=True)\n",
      "Loss: 45.6031494140625\n"
     ]
    }
   ],
   "source": [
    "learning_rate = 1e-5\n",
    "epochs = 1000\n",
    "\n",
    "for epoch in range(epochs):\n",
    "    preds = model(inputs)\n",
    "    loss = mse(preds, targets)\n",
    "    loss.backward()\n",
    "\n",
    "    with torch.no_grad():\n",
    "        w -= w.grad * learning_rate\n",
    "        b -= b.grad * learning_rate\n",
    "        w.grad.zero_()\n",
    "        b.grad.zero_()\n",
    "        \n",
    "    if epoch % (epochs / 10) == 0:\n",
    "        print(f'Epoch {epoch+1}/{epochs}:')\n",
    "        print(f'Weights: {w}')\n",
    "        print(f'Loss: {loss.item()}')"
   ]
  },
  {
   "cell_type": "markdown",
   "metadata": {},
   "source": [
    "4) Оцінка похибки (MSE) після тренування моделі"
   ]
  },
  {
   "cell_type": "code",
   "execution_count": 50,
   "metadata": {},
   "outputs": [
    {
     "data": {
      "text/plain": [
       "tensor(37.9169, device='cuda:0', grad_fn=<DivBackward0>)"
      ]
     },
     "execution_count": 50,
     "metadata": {},
     "output_type": "execute_result"
    }
   ],
   "source": [
    "preds = model(inputs)\n",
    "final_loss = mse(preds, targets)\n",
    "\n",
    "final_loss"
   ]
  }
 ],
 "metadata": {
  "kernelspec": {
   "display_name": ".venv",
   "language": "python",
   "name": "python3"
  },
  "language_info": {
   "codemirror_mode": {
    "name": "ipython",
    "version": 3
   },
   "file_extension": ".py",
   "mimetype": "text/x-python",
   "name": "python",
   "nbconvert_exporter": "python",
   "pygments_lexer": "ipython3",
   "version": "3.12.3"
  }
 },
 "nbformat": 4,
 "nbformat_minor": 2
}
